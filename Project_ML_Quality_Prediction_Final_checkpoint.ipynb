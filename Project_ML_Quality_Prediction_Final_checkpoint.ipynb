{
  "nbformat": 4,
  "nbformat_minor": 0,
  "metadata": {
    "accelerator": "GPU",
    "colab": {
      "name": "Project  ML_Quality_Prediction_Final-checkpoint.ipynb",
      "provenance": [],
      "collapsed_sections": [
        "sIOb3SXXt1Dn",
        "1VZFxc3EvWmV",
        "sUJxIINMvub4",
        "BbcfHXchvxUJ",
        "gws6pB-rv3vj",
        "zicI5vDKwLFR",
        "8j2EIxJYwUyw",
        "uKstq2AFxTD0",
        "P0e1JngHxWUI",
        "Jqg26TcvxpCO",
        "e8zg9r6w3ULm",
        "VYI4GIHcuT7j",
        "iP1vAOEM0ut8"
      ],
      "toc_visible": true
    },
    "kernelspec": {
      "display_name": "Python 3",
      "language": "python",
      "name": "python3"
    },
    "language_info": {
      "codemirror_mode": {
        "name": "ipython",
        "version": 3
      },
      "file_extension": ".py",
      "mimetype": "text/x-python",
      "name": "python",
      "nbconvert_exporter": "python",
      "pygments_lexer": "ipython3",
      "version": "3.8.5"
    }
  },
  "cells": [
    {
      "cell_type": "markdown",
      "metadata": {
        "id": "bItCPILotRNM"
      },
      "source": [
        "# Imports\n"
      ]
    },
    {
      "cell_type": "code",
      "metadata": {
        "id": "MKO1gxtUEo3h"
      },
      "source": [
        "# Basic Data Anaylsis \n",
        "import pandas as pd\n",
        "import numpy as np\n",
        "import matplotlib.pyplot as plt\n",
        "from collections import Counter\n",
        "import seaborn as sns\n",
        "sns.set()"
      ],
      "execution_count": null,
      "outputs": []
    },
    {
      "cell_type": "code",
      "metadata": {
        "id": "D8v98pDyE0YY"
      },
      "source": [
        "# Sklearn Preprocessing\n",
        "from sklearn.feature_extraction.text import TfidfVectorizer\n",
        "from sklearn.model_selection import train_test_split\n",
        "from sklearn.preprocessing import StandardScaler\n",
        "from sklearn import preprocessing\n",
        "from sklearn.feature_extraction.text import CountVectorizer\n",
        "from sklearn.preprocessing import LabelEncoder\n",
        "from sklearn.model_selection import validation_curve\n",
        "\n",
        "# Sklearn Classifiers\n",
        "from sklearn.linear_model import LogisticRegression\n",
        "from sklearn.neural_network import MLPClassifier\n",
        "from sklearn.tree import DecisionTreeClassifier\n",
        "from sklearn.neighbors import KNeighborsClassifier\n",
        "\n",
        "from sklearn.linear_model import Perceptron\n",
        "from sklearn.linear_model import SGDClassifier\n",
        "\n",
        "# Sklearn Optimizers\n",
        "from sklearn.model_selection import cross_val_score\n",
        "from sklearn.model_selection import StratifiedKFold\n",
        "from sklearn.model_selection import GridSearchCV\n",
        "\n",
        "# Sklearn Evaluation\n",
        "from sklearn.metrics import classification_report\n",
        "from sklearn.metrics import confusion_matrix\n",
        "from sklearn.metrics import accuracy_score\n",
        "from sklearn.metrics import average_precision_score\n",
        "from sklearn.metrics import precision_recall_curve\n",
        "from sklearn.metrics import plot_confusion_matrix\n",
        "from sklearn.metrics import plot_precision_recall_curve\n",
        "from sklearn.metrics import plot_roc_curve"
      ],
      "execution_count": null,
      "outputs": []
    },
    {
      "cell_type": "code",
      "metadata": {
        "id": "H0gU2LhcE42A"
      },
      "source": [
        "# Tensorflow and Keras\n",
        "import tensorflow as tf\n",
        "#import tensorflow_hub as hub\n",
        "from tensorflow import keras\n",
        "from tensorflow import feature_column\n",
        "from tensorflow.keras import layers\n",
        "from keras.utils import np_utils\n",
        "from tensorflow.keras.preprocessing import text\n",
        "from tensorflow.keras.callbacks import ReduceLROnPlateau, EarlyStopping"
      ],
      "execution_count": null,
      "outputs": []
    },
    {
      "cell_type": "code",
      "metadata": {
        "id": "uDZXNnV_E7XQ"
      },
      "source": [
        "# NLP\n",
        "import re\n",
        "from nltk.corpus import stopwords\n",
        "from nltk.tokenize import word_tokenize\n",
        "from nltk.util import ngrams, bigrams, trigrams\n",
        "from nltk.stem import WordNetLemmatizer, PorterStemmer, SnowballStemmer"
      ],
      "execution_count": null,
      "outputs": []
    },
    {
      "cell_type": "code",
      "metadata": {
        "id": "Vc4d54HVE9v8"
      },
      "source": [
        "# Others"
      ],
      "execution_count": null,
      "outputs": []
    },
    {
      "cell_type": "code",
      "metadata": {
        "colab": {
          "base_uri": "https://localhost:8080/"
        },
        "id": "d0hS42BeGdlP",
        "outputId": "cdcc61c1-a910-4ff5-86ad-cb06a9fc26dd"
      },
      "source": [
        "# Ensures use of GPU\n",
        "print(\"Num GPUs Available: \", len(tf.config.experimental.list_physical_devices('GPU')))"
      ],
      "execution_count": null,
      "outputs": [
        {
          "output_type": "stream",
          "text": [
            "Num GPUs Available:  0\n"
          ],
          "name": "stdout"
        }
      ]
    },
    {
      "cell_type": "markdown",
      "metadata": {
        "id": "oSPBLK0Mtaec"
      },
      "source": [
        "# Importing Dataset"
      ]
    },
    {
      "cell_type": "code",
      "metadata": {
        "id": "V6IKmCcgL2BK"
      },
      "source": [
        "# Reads Data From File\n",
        "data = pd.read_csv('data/stackOverflowData.csv')\n",
        "data = data.dropna()"
      ],
      "execution_count": null,
      "outputs": []
    },
    {
      "cell_type": "code",
      "metadata": {
        "id": "Sccz-pS4o3pT"
      },
      "source": [
        "# Removes LQ_EDIT from database and resets the index\n",
        "data = data[data.Y != 'LQ_EDIT']\n",
        "data = data.reset_index()\n",
        "data = data.drop(columns=['index'])"
      ],
      "execution_count": null,
      "outputs": []
    },
    {
      "cell_type": "code",
      "metadata": {
        "colab": {
          "base_uri": "https://localhost:8080/",
          "height": 204
        },
        "id": "EL3aq5BYpB2D",
        "outputId": "43eddb18-5ed2-45d7-c172-0349559624f6"
      },
      "source": [
        "data.head()"
      ],
      "execution_count": null,
      "outputs": [
        {
          "output_type": "execute_result",
          "data": {
            "text/html": [
              "<div>\n",
              "<style scoped>\n",
              "    .dataframe tbody tr th:only-of-type {\n",
              "        vertical-align: middle;\n",
              "    }\n",
              "\n",
              "    .dataframe tbody tr th {\n",
              "        vertical-align: top;\n",
              "    }\n",
              "\n",
              "    .dataframe thead th {\n",
              "        text-align: right;\n",
              "    }\n",
              "</style>\n",
              "<table border=\"1\" class=\"dataframe\">\n",
              "  <thead>\n",
              "    <tr style=\"text-align: right;\">\n",
              "      <th></th>\n",
              "      <th>Id</th>\n",
              "      <th>Title</th>\n",
              "      <th>Body</th>\n",
              "      <th>Tags</th>\n",
              "      <th>CreationDate</th>\n",
              "      <th>Y</th>\n",
              "    </tr>\n",
              "  </thead>\n",
              "  <tbody>\n",
              "    <tr>\n",
              "      <th>0</th>\n",
              "      <td>34552656</td>\n",
              "      <td>Java: Repeat Task Every Random Seconds</td>\n",
              "      <td>&lt;p&gt;I'm already familiar with repeating tasks e...</td>\n",
              "      <td>&lt;java&gt;&lt;repeat&gt;</td>\n",
              "      <td>1/1/2016 0:21</td>\n",
              "      <td>LQ_CLOSE</td>\n",
              "    </tr>\n",
              "    <tr>\n",
              "      <th>1</th>\n",
              "      <td>34553034</td>\n",
              "      <td>Why are Java Optionals immutable?</td>\n",
              "      <td>&lt;p&gt;I'd like to understand why Java 8 Optionals...</td>\n",
              "      <td>&lt;java&gt;&lt;optional&gt;</td>\n",
              "      <td>1/1/2016 2:03</td>\n",
              "      <td>HQ</td>\n",
              "    </tr>\n",
              "    <tr>\n",
              "      <th>2</th>\n",
              "      <td>34553174</td>\n",
              "      <td>Text Overlay Image with Darkened Opacity React...</td>\n",
              "      <td>&lt;p&gt;I am attempting to overlay a title over an ...</td>\n",
              "      <td>&lt;javascript&gt;&lt;image&gt;&lt;overlay&gt;&lt;react-native&gt;&lt;opa...</td>\n",
              "      <td>1/1/2016 2:48</td>\n",
              "      <td>HQ</td>\n",
              "    </tr>\n",
              "    <tr>\n",
              "      <th>3</th>\n",
              "      <td>34553318</td>\n",
              "      <td>Why ternary operator in swift is so picky?</td>\n",
              "      <td>&lt;p&gt;The question is very simple, but I just cou...</td>\n",
              "      <td>&lt;swift&gt;&lt;operators&gt;&lt;whitespace&gt;&lt;ternary-operato...</td>\n",
              "      <td>1/1/2016 3:30</td>\n",
              "      <td>HQ</td>\n",
              "    </tr>\n",
              "    <tr>\n",
              "      <th>4</th>\n",
              "      <td>34553755</td>\n",
              "      <td>hide/show fab with scale animation</td>\n",
              "      <td>&lt;p&gt;I'm using custom floatingactionmenu. I need...</td>\n",
              "      <td>&lt;android&gt;&lt;material-design&gt;&lt;floating-action-but...</td>\n",
              "      <td>1/1/2016 5:21</td>\n",
              "      <td>HQ</td>\n",
              "    </tr>\n",
              "  </tbody>\n",
              "</table>\n",
              "</div>"
            ],
            "text/plain": [
              "         Id                                              Title  \\\n",
              "0  34552656             Java: Repeat Task Every Random Seconds   \n",
              "1  34553034                  Why are Java Optionals immutable?   \n",
              "2  34553174  Text Overlay Image with Darkened Opacity React...   \n",
              "3  34553318         Why ternary operator in swift is so picky?   \n",
              "4  34553755                 hide/show fab with scale animation   \n",
              "\n",
              "                                                Body  \\\n",
              "0  <p>I'm already familiar with repeating tasks e...   \n",
              "1  <p>I'd like to understand why Java 8 Optionals...   \n",
              "2  <p>I am attempting to overlay a title over an ...   \n",
              "3  <p>The question is very simple, but I just cou...   \n",
              "4  <p>I'm using custom floatingactionmenu. I need...   \n",
              "\n",
              "                                                Tags   CreationDate         Y  \n",
              "0                                     <java><repeat>  1/1/2016 0:21  LQ_CLOSE  \n",
              "1                                   <java><optional>  1/1/2016 2:03        HQ  \n",
              "2  <javascript><image><overlay><react-native><opa...  1/1/2016 2:48        HQ  \n",
              "3  <swift><operators><whitespace><ternary-operato...  1/1/2016 3:30        HQ  \n",
              "4  <android><material-design><floating-action-but...  1/1/2016 5:21        HQ  "
            ]
          },
          "metadata": {
            "tags": []
          },
          "execution_count": 9
        }
      ]
    },
    {
      "cell_type": "markdown",
      "metadata": {
        "id": "ucBZbvA2uEuf"
      },
      "source": [
        "# Preproccessing"
      ]
    },
    {
      "cell_type": "markdown",
      "metadata": {
        "id": "UVNkMlc1tgO0"
      },
      "source": [
        "## Tag Data"
      ]
    },
    {
      "cell_type": "code",
      "metadata": {
        "colab": {
          "base_uri": "https://localhost:8080/",
          "height": 419
        },
        "id": "2ClOC3AcotwK",
        "outputId": "c265e1f3-40f3-4f90-bba0-4994b7b279a6"
      },
      "source": [
        "# Creates dataframe of tag data including a set of tags and the number of tags\n",
        "# for each row\n",
        "tag_df = pd.DataFrame()\n",
        "tag_df['Tags'] = data['Tags'].apply(lambda x: set(x[1:-1].split('><')))\n",
        "tag_df['Num_Tags'] = tag_df['Tags'].apply(lambda x: int(len(x)))\n",
        "tag_df['Quality'] = data['Y']\n",
        "tag_df"
      ],
      "execution_count": null,
      "outputs": [
        {
          "output_type": "execute_result",
          "data": {
            "text/html": [
              "<div>\n",
              "<style scoped>\n",
              "    .dataframe tbody tr th:only-of-type {\n",
              "        vertical-align: middle;\n",
              "    }\n",
              "\n",
              "    .dataframe tbody tr th {\n",
              "        vertical-align: top;\n",
              "    }\n",
              "\n",
              "    .dataframe thead th {\n",
              "        text-align: right;\n",
              "    }\n",
              "</style>\n",
              "<table border=\"1\" class=\"dataframe\">\n",
              "  <thead>\n",
              "    <tr style=\"text-align: right;\">\n",
              "      <th></th>\n",
              "      <th>Tags</th>\n",
              "      <th>Num_Tags</th>\n",
              "      <th>Quality</th>\n",
              "    </tr>\n",
              "  </thead>\n",
              "  <tbody>\n",
              "    <tr>\n",
              "      <th>0</th>\n",
              "      <td>{java, repeat}</td>\n",
              "      <td>2</td>\n",
              "      <td>LQ_CLOSE</td>\n",
              "    </tr>\n",
              "    <tr>\n",
              "      <th>1</th>\n",
              "      <td>{java, optional}</td>\n",
              "      <td>2</td>\n",
              "      <td>HQ</td>\n",
              "    </tr>\n",
              "    <tr>\n",
              "      <th>2</th>\n",
              "      <td>{opacity, overlay, javascript, react-native, i...</td>\n",
              "      <td>5</td>\n",
              "      <td>HQ</td>\n",
              "    </tr>\n",
              "    <tr>\n",
              "      <th>3</th>\n",
              "      <td>{whitespace, operators, optional, ternary-oper...</td>\n",
              "      <td>5</td>\n",
              "      <td>HQ</td>\n",
              "    </tr>\n",
              "    <tr>\n",
              "      <th>4</th>\n",
              "      <td>{floating-action-button, material-design, andr...</td>\n",
              "      <td>3</td>\n",
              "      <td>HQ</td>\n",
              "    </tr>\n",
              "    <tr>\n",
              "      <th>...</th>\n",
              "      <td>...</td>\n",
              "      <td>...</td>\n",
              "      <td>...</td>\n",
              "    </tr>\n",
              "    <tr>\n",
              "      <th>39994</th>\n",
              "      <td>{flexbox, css, html}</td>\n",
              "      <td>3</td>\n",
              "      <td>LQ_CLOSE</td>\n",
              "    </tr>\n",
              "    <tr>\n",
              "      <th>39995</th>\n",
              "      <td>{c++}</td>\n",
              "      <td>1</td>\n",
              "      <td>LQ_CLOSE</td>\n",
              "    </tr>\n",
              "    <tr>\n",
              "      <th>39996</th>\n",
              "      <td>{c#, visual-studio}</td>\n",
              "      <td>2</td>\n",
              "      <td>LQ_CLOSE</td>\n",
              "    </tr>\n",
              "    <tr>\n",
              "      <th>39997</th>\n",
              "      <td>{html, javascript, php}</td>\n",
              "      <td>3</td>\n",
              "      <td>LQ_CLOSE</td>\n",
              "    </tr>\n",
              "    <tr>\n",
              "      <th>39998</th>\n",
              "      <td>{overloading, return-type, c++}</td>\n",
              "      <td>3</td>\n",
              "      <td>LQ_CLOSE</td>\n",
              "    </tr>\n",
              "  </tbody>\n",
              "</table>\n",
              "<p>39999 rows × 3 columns</p>\n",
              "</div>"
            ],
            "text/plain": [
              "                                                    Tags  Num_Tags   Quality\n",
              "0                                         {java, repeat}         2  LQ_CLOSE\n",
              "1                                       {java, optional}         2        HQ\n",
              "2      {opacity, overlay, javascript, react-native, i...         5        HQ\n",
              "3      {whitespace, operators, optional, ternary-oper...         5        HQ\n",
              "4      {floating-action-button, material-design, andr...         3        HQ\n",
              "...                                                  ...       ...       ...\n",
              "39994                               {flexbox, css, html}         3  LQ_CLOSE\n",
              "39995                                              {c++}         1  LQ_CLOSE\n",
              "39996                                {c#, visual-studio}         2  LQ_CLOSE\n",
              "39997                            {html, javascript, php}         3  LQ_CLOSE\n",
              "39998                    {overloading, return-type, c++}         3  LQ_CLOSE\n",
              "\n",
              "[39999 rows x 3 columns]"
            ]
          },
          "metadata": {
            "tags": []
          },
          "execution_count": 10
        }
      ]
    },
    {
      "cell_type": "code",
      "metadata": {
        "colab": {
          "base_uri": "https://localhost:8080/",
          "height": 235
        },
        "id": "D8WsNounp30c",
        "outputId": "1e1cba76-2da7-4046-ef37-df87dc2df880"
      },
      "source": [
        "# Creates a pivot table and graphs the number of tags versus the quality\n",
        "num_tags_pivot = pd.pivot_table(tag_df[['Num_Tags', 'Quality']], index=['Num_Tags'], columns=['Quality'], aggfunc=np.size, fill_value=0)\n",
        "num_tags_pivot.head(24)"
      ],
      "execution_count": null,
      "outputs": [
        {
          "output_type": "execute_result",
          "data": {
            "text/html": [
              "<div>\n",
              "<style scoped>\n",
              "    .dataframe tbody tr th:only-of-type {\n",
              "        vertical-align: middle;\n",
              "    }\n",
              "\n",
              "    .dataframe tbody tr th {\n",
              "        vertical-align: top;\n",
              "    }\n",
              "\n",
              "    .dataframe thead th {\n",
              "        text-align: right;\n",
              "    }\n",
              "</style>\n",
              "<table border=\"1\" class=\"dataframe\">\n",
              "  <thead>\n",
              "    <tr style=\"text-align: right;\">\n",
              "      <th>Quality</th>\n",
              "      <th>HQ</th>\n",
              "      <th>LQ_CLOSE</th>\n",
              "    </tr>\n",
              "    <tr>\n",
              "      <th>Num_Tags</th>\n",
              "      <th></th>\n",
              "      <th></th>\n",
              "    </tr>\n",
              "  </thead>\n",
              "  <tbody>\n",
              "    <tr>\n",
              "      <th>1</th>\n",
              "      <td>5176</td>\n",
              "      <td>9552</td>\n",
              "    </tr>\n",
              "    <tr>\n",
              "      <th>2</th>\n",
              "      <td>10742</td>\n",
              "      <td>12506</td>\n",
              "    </tr>\n",
              "    <tr>\n",
              "      <th>3</th>\n",
              "      <td>11410</td>\n",
              "      <td>9734</td>\n",
              "    </tr>\n",
              "    <tr>\n",
              "      <th>4</th>\n",
              "      <td>7484</td>\n",
              "      <td>5200</td>\n",
              "    </tr>\n",
              "    <tr>\n",
              "      <th>5</th>\n",
              "      <td>5188</td>\n",
              "      <td>3006</td>\n",
              "    </tr>\n",
              "  </tbody>\n",
              "</table>\n",
              "</div>"
            ],
            "text/plain": [
              "Quality      HQ  LQ_CLOSE\n",
              "Num_Tags                 \n",
              "1          5176      9552\n",
              "2         10742     12506\n",
              "3         11410      9734\n",
              "4          7484      5200\n",
              "5          5188      3006"
            ]
          },
          "metadata": {
            "tags": []
          },
          "execution_count": 11
        }
      ]
    },
    {
      "cell_type": "code",
      "metadata": {
        "colab": {
          "base_uri": "https://localhost:8080/",
          "height": 299
        },
        "id": "1pAq4hd2qQys",
        "outputId": "bad1ac7e-e315-47c0-85f0-7680eaca5932"
      },
      "source": [
        "num_tags_pivot.plot(kind='bar')"
      ],
      "execution_count": null,
      "outputs": [
        {
          "output_type": "execute_result",
          "data": {
            "text/plain": [
              "<AxesSubplot:xlabel='Num_Tags'>"
            ]
          },
          "metadata": {
            "tags": []
          },
          "execution_count": 12
        },
        {
          "output_type": "display_data",
          "data": {
            "image/png": "[encoded data removed]",
            "text/plain": [
              "<Figure size 432x288 with 1 Axes>"
            ]
          },
          "metadata": {
            "tags": []
          }
        }
      ]
    },
    {
      "cell_type": "code",
      "metadata": {
        "colab": {
          "base_uri": "https://localhost:8080/"
        },
        "id": "qlHk-dLBqiKj",
        "outputId": "38e0c9de-4c02-4cfb-f9f0-75acb47722bb"
      },
      "source": [
        "# Creates a list of every tag in the dataframe\n",
        "all_tags = ''.join(data['Tags'].tolist())[1:-1].split('><')\n",
        "len(all_tags)"
      ],
      "execution_count": null,
      "outputs": [
        {
          "output_type": "execute_result",
          "data": {
            "text/plain": [
              "108181"
            ]
          },
          "metadata": {
            "tags": []
          },
          "execution_count": 13
        }
      ]
    },
    {
      "cell_type": "code",
      "metadata": {
        "colab": {
          "base_uri": "https://localhost:8080/"
        },
        "id": "GmoAff11MZH8",
        "outputId": "5fa09ff9-1aae-4c4a-82e6-06405dd4a0f7"
      },
      "source": [
        "#Get the top N tags\n",
        "N = 1000\n",
        "tag_counts = Counter(all_tags)\n",
        "top_tags = {tag for tag, count in tag_counts.most_common(N)}\n",
        "print(f\"The top N tags are {top_tags}\")"
      ],
      "execution_count": null,
      "outputs": [
        {
          "output_type": "stream",
          "text": [
            "The top N tags are {'build.gradle', 'service', 'count', 'null', 'css', 'swiftui', 'oauth-2.0', 'angular2-directives', 'datepicker', 'html5-video', 'graph', 'rabbitmq', 'identityserver4', 'hive', 'wpf', 'ajax', 'create-react-app', 'xamarin.ios', 'azure-active-directory', '.htaccess', 'nsdate', 'google-cloud-firestore', 'switch-statement', 'composer-php', 'seo', 'retrofit', 'leaflet', 'mongodb', 'twitter-bootstrap-3', 'conditional', 'audio', 'amazon-ecs', 'dataset', 'pygame', 'utf-8', 'python-3.6', 'static', 'ruby-on-rails', 'unity3d', 'gitlab-ci', 'ssl-certificate', 'version-control', 'keras', 'ubuntu-16.04', 'entity-framework-core', 'nuget', 'plot', 'immutability', 'karma-runner', 'android-edittext', 'facebook-graph-api', 'bit-manipulation', 'cmake', 'lodash', 'google-chrome', 'cordova', 'promise', 'angular-reactive-forms', 'intellij-idea', 'android-constraintlayout', 'windows-subsystem-for-linux', 'qt', 'cloud', 'reverse', 'max', 'virtualbox', 'google-cloud-functions', 'orm', 'asynchronous', 'anaconda', 'c#', 'multidimensional-array', 'replace', 'integer', 'locale', 'shell', 'jekyll', 'xcode7', 'cypress', 'servlets', 'oracle11g', 'embedded', 'gradle', 'html', 'exception', 'conv-neural-network', 'docker-swarm', 'okhttp', 'xcode10', 'rubygems', 'tuples', 'time-series', 'parameters', 'firebase-realtime-database', 'memory-leaks', 'passwords', 'arraylist', 'javafx', 'enums', 'slice', 'font-awesome', 'logic', 'gatsby', 'list', 'arguments', 'syntax-error', 'browser', 'tkinter', 'aws-api-gateway', 'heap', 'asp.net-core', 'winforms', 'camera', 'amazon-s3', 'rx-java2', 'msbuild', 'selenium-chromedriver', 'oauth', 'asp.net-core-1.0', 'math', 'timezone', 'operators', 'background', 'struct', 'activerecord', 'google-app-engine', 'console-application', 'attributes', 'scanf', 'android-service', 'listview', 'visual-studio', 'icons', 'apache-kafka', 'optional', 'webpack-dev-server', 'port', 'model-view-controller', 'win-universal-app', 'jquery-ui', 'dictionary', 'asp.net-core-mvc', 'merge', 'window', 'safari', 'sockets', 'express', 'import', 'ffmpeg', 'concatenation', 'yaml', 'hex', 'nested', 'printf', 'ssh', 'vim', 'amazon-cloudformation', 'dplyr', 'gcloud', 'spring-boot', 'xmlhttprequest', 'pip', 'immutable.js', 'dataframe', 'postgresql', 'aws-lambda', 'debugging', 'string', 'search', 'tfs', 'interface', 'jackson', 'localhost', 'structure', 'tidyverse', 'duplicates', 'escaping', 'closures', 'reporting-services', 'undefined-behavior', 'python-requests', 'github', 'dom', 'methods', 'gpu', 'c++14', 'chart.js', 'retrofit2', 'asp.net-identity', 'expression', 'gensim', 'garbage-collection', 'python-asyncio', 'task', 'computer-vision', 'vuex', 'scroll', 'ios-simulator', 'bottom-sheet', 'async-await', 'video', 'image-processing', 'scikit-learn', 'gulp', 'reactive-programming', 'pylint', 'textfield', 'ios', 'fetch', 'proguard', 'rx-java', 'okhttp3', 'char', 'sql-server', 'alamofire', 'encoding', 'routing', 'annotations', 'media-queries', 'time', 'pipenv', 'postman', 'tree', 'java', 'project', 'firebase-authentication', 'memory-management', 'events', 'cookies', 'if-statement', 'adb', 'namespaces', 'sublimetext3', 'jupyter-notebook', 'google-colaboratory', 'spring-webflux', 'google-drive-api', 'interface-builder', 'prometheus', 'copy', 'pattern-matching', 'ipad', 'email', 'format', 'std', 'android-jetpack', 'facebook', 'cassandra', 'android-sqlite', 'unique', 'data-structures', 'spring-mvc', 'login', 'ruby-on-rails-5', 'security', 'babel', 'list-comprehension', 'openssl', 'mockito', 'stripe-payments', 'powershell', 'append', 'integration-testing', 'xcode9', 'authentication', 'nltk', 'laravel-5.1', 'azure-service-fabric', 'centos', 'containers', 'colors', 'material-ui', 'android-permissions', 'amazon-web-services', 'react-apollo', 'geolocation', 'symfony', 'nuxt.js', 'directory', 'try-catch', 'junit', 'gson', 'ssl', 'plotly', 'url', 'azure-cosmosdb', 'jakarta-ee', 'google-cloud-messaging', 'file-upload', 'spring-security', 'set', 'proxy', 'view', 'd3.js', 'private', 'web-scraping', 'mongoose', 'yii2', 'progress-bar', 'http', 'realm', 'swift2', 'single-page-application', 'pytorch', 'recursion', 'memory', 'vscode-settings', 'pipe', 'download', 'input', 'angular2-services', 'dns', 'configuration', 'laravel-5', 'asp.net-core-webapi', 'collections', 'firebase', 'android-studio', 'graphics', 'minikube', 'virtual-machine', 'parallel-processing', 'resharper', 'sh', 'architecture', 'rest', 'groovy', 'range', 'azure', 'heroku', 'templates', 'internet-explorer', 'docker-compose', 'arrays', 'netbeans', 'https', 'styled-components', 'lambda', 'command-line', 'flask-sqlalchemy', 'pdo', 'ngrx', 'compiler-errors', 'swift', 'printing', 'spark-dataframe', 'youtube', 'androidx', 'jasmine', 'frameworks', 'iphone', 'amazon-ec2', 'boolean', 'ionic-framework', 'automation', 'database', 'zsh', 'jsp', 'indexing', 'puppeteer', 'karma-jasmine', 'mocha', 'css-selectors', 'unicode', 'laravel', 'excel', 'phoenix-framework', 'twitter-bootstrap', 'iteration', 'jenkins-plugins', 'oop', 'docker-machine', 'swift4', 'matplotlib', 'laravel-5.4', 'microservices', 'class', 'dynamic', 'notepad++', 'undefined', 'f#', 'exception-handling', 'request', 'web-services', 'haskell', 'google-bigquery', 'angular5', 'rust', 'ruby', 'angular', 'unit-testing', 'header', 'jdbc', 'amazon-cognito', 'slack', 'angularjs', 'g++', 'web-applications', 'hashtable', 'byte', 'swagger', 'optimization', 'azure-pipelines', 'return', 'gunicorn', 'ubuntu', 'jwt', 'plsql', 'android-architecture-components', 'iterator', 'ruby-on-rails-4', 'jupyter', 'push-notification', 'asp.net-mvc-5', 'xamarin.android', 'uicollectionview', 'android-7.0-nougat', 'amazon-iam', 'android-room', 'java.util.scanner', 'apollo-client', 'amazon-elastic-beanstalk', 'language-lawyer', 'vuetify.js', 'visual-studio-2019', 'javascript', 'swing', 'text-files', 'webview', 'sonarqube', 'sass', 'charts', 'jestjs', 'phpmyadmin', 'time-complexity', 'scripting', 'alert', 'function', 'synchronization', 'variables', 'deep-learning', 'xcode11', 'protocol-buffers', 'sum', 'jquery', 'node-modules', 'split', 'core-data', 'components', 'wkwebview', 'java-9', 'autocomplete', 'serialization', 'google-play', 'raspberry-pi', 'woocommerce', 'rstudio', 'google-chrome-extension', 'internationalization', 'continuous-integration', 'scala', 'data-binding', 'travis-ci', 'python-2.7', 'terraform', 'ios10', 'c#-4.0', 'laravel-5.3', 'git', 'r-markdown', 'momentjs', 'responsive-design', 'maps', 'for-loop', 'segmentation-fault', 'join', 'kubectl', 'tsql', 'concurrency', 'bottomnavigationview', 'malloc', 'opencv', 'django', 'kafka-consumer-api', 'terminal', 'module', 'xamarin.forms', 'android-recyclerview', 'http-headers', 'macos-high-sierra', 'sed', 'batch-file', 'syntax', 'beautifulsoup', 'documentation', 'firebase-cloud-messaging', 'lombok', 'selenium', 'expo', 'linker', 'typescript-typings', 'uitableview', 'typescript', 'cryptography', 'windows', 'generator', 'constants', 'editor', 'timestamp', 'android-espresso', 'navigation', 'find', 'installation', 'android-support-library', 'floating-point', 'ghc', 'dagger-2', 'crashlytics', 'xgboost', 'flask', 'markdown', 'textview', 'vue-router', 'android-8.0-oreo', 'opengl', 'eloquent', 'lazy-loading', 'calendar', 'bootstrap-4', 'text', 'logging', 'casting', 'permissions', 'flowtype', 'location', 'php', 'django-models', 'sbt', 'javascript-objects', 'boost', 'responsive', 'grpc', 'google-cloud-storage', 'entity-framework', 'curl', 'spring', 'reflection', 'web-crawler', 'binary', 'vector', 'ms-access', 'inheritance', 'mocking', 'babeljs', '.net-core', 'ios13', 'error-handling', 'sqlalchemy', 'kubernetes', 'progressive-web-apps', 'jvm', 'google-sheets', 'visual-studio-2017', 'operating-system', 'ecmascript-6', 'angular-material', 'firebase-storage', 'typescript2.0', 'angular2-forms', 'automated-tests', 'scope', 'angular2-routing', 'razor', 'apk', 'bots', 'assembly', 'asp.net-mvc', 'java-stream', 'apache', 'datetime-format', 'process', 'random', 'observable', 'sorting', 'lets-encrypt', 'webkit', 'mysql', 'android', 'neural-network', 'notifications', 'artificial-intelligence', 'google-kubernetes-engine', 'networking', 'elixir', 'object', 'constexpr', 'asp.net-core-2.0', 'flutter', 'zip', 'keycloak', 'conda', 'google-maps-api-3', 'lua', 'homebrew', 'celery', 'clang', 'protractor', 'vbscript', 'pointers', 'maven', 'iis', 'jpa', 'scipy', 'backend', 'bluetooth', 'roslyn', 'vuejs2', 'react-native-ios', 'python-3.x', 'eclipse', 'testing', 'angular-material2', 'stl', 'geometry', 'dart', 'aws-sdk', 'flexbox', 'regex', 'linux', 'cors', 'macos-sierra', 'ios9', 'datatables', 'android-livedata', 'airflow', 'hash', 'python-imaging-library', 'initialization', 'fonts', 'hashmap', 'rx-swift', 'user-interface', 'java-8', 'ip', 'go', 'azure-web-sites', 'c++', 'crash', 'session', 'typeerror', 'routes', 'command', 'ubuntu-18.04', 'big-o', 'new-operator', 'chat', 'google-signin', 'centos7', 'pdf', 'firefox', 'xampp', 'keyboard-shortcuts', 'c++17', 'visual-c++', 'double', 'elm', 'android-viewpager', 'android-ndk', 'redux-saga', 'stack', 'angular6', 'int', 'chromium', 'xamarin', 'meteor', 'unix', 'arduino', 'pagination', 'es6-promise', 'caching', 'gmail', 'graphql', 'word2vec', 'reactjs', 'file', 'pycharm', 'type-conversion', 'checkbox', 'aws-cli', 'foreach', 'avfoundation', 'oracle', 'lint', 'alpine', 'uwp', 'ansible-playbook', 'performance', 'angular2-template', 'vb.net', 'gitkraken', 'cuda', 'asp.net-web-api', 'ide', 'python', 'npm-install', 'makefile', 'io', 'android-architecture-navigation', 'google-maps', 'warnings', 'visual-studio-code', 'console', 'simpledateformat', '.net-standard', 'docker', 'npm', 'laravel-5.2', 'numpy', 'enzyme', 'hyperlink', 'build', 'matrix', 'loops', 'key', 'row', 'ionic3', 'out-of-memory', 'in-app-purchase', 'cocoapods', 'atlassian-sourcetree', 'packages', 'xcode8', 'forms', 'instagram', 'uinavigationbar', 'design-patterns', 'winapi', 'global-variables', 'virtualenv', 'xcode', 'canvas', 'clojure', 'c', 'sqlite', 'material-design', 'jinja2', 'substring', 'delphi', 'data-science', 'this', 'angular-cli', 'grep', 'mobile', 'cmd', 'command-line-interface', 'destructuring', 'android-gradle-plugin', 'stored-procedures', 'webdriver', 'webrtc', 'numbers', 'reference', 'preg-replace', 'rx-android', 'mvvm', 'parquet', 'azure-devops', 'database-design', 'matlab', 'x86', 'sql', 'pyspark', 'android-layout', 'environment-variables', 'styles', 'axios', 'file-io', 'webpack', 'state', 'sdk', 'datetime', 'data.table', 'singleton', 'nginx', 'nuget-package', 'react-router-v4', 'tensorboard', 'amazon-dynamodb', 'macros', 'react-native', 'websocket', 'google-cloud-platform', 'android-activity', 'swagger-ui', 'xctest', 'microsoft-edge', 'django-rest-framework', 'redis', 'codable', 'unity5', 'socket.io', 'rspec', 'hadoop', 'python-3.5', 'statistics', 'pm2', 'entity-framework-6', 'vba', 'functional-programming', 'code-coverage', 'xml', 'localization', 'command-prompt', 'google-compute-engine', 'perl', 'indexoutofboundsexception', 'stream', 'json', 'package.json', 'convolution', 'visual-studio-2015', 'callback', 'codeigniter', 'character', 'layout', 'xaml', 'apple-push-notifications', 'overloading', 'json.net', 'google-apps-script', 'bitbucket', 'vagrant', 'graphql-js', 'rename', 'instagram-api', 'php-7', 'redirect', 'ionic2', 'eslint', 'react-native-android', 'apache-spark-sql', 'jenkins', 'gcc', 'twitter', 'api', 'gitlab', 'select', 'fragment', 'get', 'python-unittest', 'pandas', 'node.js', 'output', 'vue.js', 'image', 'boto3', 'recaptcha', 'c++20', 'variable-assignment', 'react-jsx', 'uinavigationcontroller', 'lstm', 'iframe', 'types', 'frontend', 'c#-7.0', 'xpath', 'apache-spark', 'cocoa', 'schema', 'devops', 'ansible', 'button', 'insert', 'while-loop', 'google-play-services', 'abstract-class', 'react-router', 'router', 'mysqli', 'generics', 'android-intent', 'nullpointerexception', 'jar', 'asp.net', 'seaborn', 'animation', 'csv', 'google-api', 'firebase-analytics', 'dependency-injection', 'dockerfile', 'objective-c', 'google-chrome-devtools', 'linq', 'swift3', 'tomcat', 'bash', 'svg', 'spring-data', 'r', 'awk', 'timer', 'preg-match', 'tensorflow', 'flutter-layout', 'deployment', 'pass-by-reference', 'web', 'telegram', 'ionic4', 'react-hooks', 'queue', 'kotlin', 'multithreading', 'package', 'android-webview', 'vue-component', 'base64', 'group-by', 'sequelize.js', 'plugins', 'shiny', 'ubuntu-14.04', 'service-worker', 'ggplot2', 'pytest', 'c++11', 'post', 'constructor', 'slack-api', 'settings', 'cron', 'hibernate', 'elasticsearch', 'highcharts', 'kotlin-android-extensions', 'machine-learning', 'windows-10', 'electron', 'debian', 'multiple-columns', 'webpack-2', 'android-databinding', 'react-navigation', 'linked-list', 'android-drawable', 'validation', 'ios11', 'dependencies', 'scrapy', 'tcp', 'filter', 'android-fragments', 'redux', 'azure-functions', 'apollo', 'react-redux', 'gitlab-ci-runner', 'server', 'asp.net-mvc-4', 'redux-form', 'parsing', 'stdvector', 'operator-overloading', 'bokeh', 'app-store-connect', 'tslint', 'tags', 'automapper', 'atom-editor', '.net', 'accessibility', 'julia', 'selenium-webdriver', 'app-store', 'conditional-statements', 'cross-platform', 'compilation', 'rxjs5', 'properties', 'decimal', 'ipython', 'date', 'encryption', 'jsx', 'google-analytics', 'textbox', 'rxjs', 'android-emulator', 'spring-data-jpa', 'uiview', 'migration', 'nlp', 'dll', 'algorithm', 'jenkins-pipeline', 'macos', 'wordpress', 'path'}\n"
          ],
          "name": "stdout"
        }
      ]
    },
    {
      "cell_type": "code",
      "metadata": {
        "id": "6ap5C2o8NK3T"
      },
      "source": [
        "# Removes all but the top N tags from the tag_df\n",
        "tag_df['Tags'] = tag_df['Tags'].apply(lambda x: top_tags.intersection(x))"
      ],
      "execution_count": null,
      "outputs": []
    },
    {
      "cell_type": "code",
      "metadata": {
        "colab": {
          "base_uri": "https://localhost:8080/",
          "height": 419
        },
        "id": "_872zKLDNxz8",
        "outputId": "d52fa89c-7d37-498f-c00f-85b1352fa427"
      },
      "source": [
        "tag_df"
      ],
      "execution_count": null,
      "outputs": [
        {
          "output_type": "execute_result",
          "data": {
            "text/html": [
              "<div>\n",
              "<style scoped>\n",
              "    .dataframe tbody tr th:only-of-type {\n",
              "        vertical-align: middle;\n",
              "    }\n",
              "\n",
              "    .dataframe tbody tr th {\n",
              "        vertical-align: top;\n",
              "    }\n",
              "\n",
              "    .dataframe thead th {\n",
              "        text-align: right;\n",
              "    }\n",
              "</style>\n",
              "<table border=\"1\" class=\"dataframe\">\n",
              "  <thead>\n",
              "    <tr style=\"text-align: right;\">\n",
              "      <th></th>\n",
              "      <th>Tags</th>\n",
              "      <th>Num_Tags</th>\n",
              "      <th>Quality</th>\n",
              "    </tr>\n",
              "  </thead>\n",
              "  <tbody>\n",
              "    <tr>\n",
              "      <th>0</th>\n",
              "      <td>{java}</td>\n",
              "      <td>2</td>\n",
              "      <td>LQ_CLOSE</td>\n",
              "    </tr>\n",
              "    <tr>\n",
              "      <th>1</th>\n",
              "      <td>{java, optional}</td>\n",
              "      <td>2</td>\n",
              "      <td>HQ</td>\n",
              "    </tr>\n",
              "    <tr>\n",
              "      <th>2</th>\n",
              "      <td>{react-native, javascript, image}</td>\n",
              "      <td>5</td>\n",
              "      <td>HQ</td>\n",
              "    </tr>\n",
              "    <tr>\n",
              "      <th>3</th>\n",
              "      <td>{operators, swift, optional}</td>\n",
              "      <td>5</td>\n",
              "      <td>HQ</td>\n",
              "    </tr>\n",
              "    <tr>\n",
              "      <th>4</th>\n",
              "      <td>{material-design, android}</td>\n",
              "      <td>3</td>\n",
              "      <td>HQ</td>\n",
              "    </tr>\n",
              "    <tr>\n",
              "      <th>...</th>\n",
              "      <td>...</td>\n",
              "      <td>...</td>\n",
              "      <td>...</td>\n",
              "    </tr>\n",
              "    <tr>\n",
              "      <th>39994</th>\n",
              "      <td>{flexbox, css, html}</td>\n",
              "      <td>3</td>\n",
              "      <td>LQ_CLOSE</td>\n",
              "    </tr>\n",
              "    <tr>\n",
              "      <th>39995</th>\n",
              "      <td>{c++}</td>\n",
              "      <td>1</td>\n",
              "      <td>LQ_CLOSE</td>\n",
              "    </tr>\n",
              "    <tr>\n",
              "      <th>39996</th>\n",
              "      <td>{c#, visual-studio}</td>\n",
              "      <td>2</td>\n",
              "      <td>LQ_CLOSE</td>\n",
              "    </tr>\n",
              "    <tr>\n",
              "      <th>39997</th>\n",
              "      <td>{javascript, php, html}</td>\n",
              "      <td>3</td>\n",
              "      <td>LQ_CLOSE</td>\n",
              "    </tr>\n",
              "    <tr>\n",
              "      <th>39998</th>\n",
              "      <td>{overloading, c++}</td>\n",
              "      <td>3</td>\n",
              "      <td>LQ_CLOSE</td>\n",
              "    </tr>\n",
              "  </tbody>\n",
              "</table>\n",
              "<p>39999 rows × 3 columns</p>\n",
              "</div>"
            ],
            "text/plain": [
              "                                    Tags  Num_Tags   Quality\n",
              "0                                 {java}         2  LQ_CLOSE\n",
              "1                       {java, optional}         2        HQ\n",
              "2      {react-native, javascript, image}         5        HQ\n",
              "3           {operators, swift, optional}         5        HQ\n",
              "4             {material-design, android}         3        HQ\n",
              "...                                  ...       ...       ...\n",
              "39994               {flexbox, css, html}         3  LQ_CLOSE\n",
              "39995                              {c++}         1  LQ_CLOSE\n",
              "39996                {c#, visual-studio}         2  LQ_CLOSE\n",
              "39997            {javascript, php, html}         3  LQ_CLOSE\n",
              "39998                 {overloading, c++}         3  LQ_CLOSE\n",
              "\n",
              "[39999 rows x 3 columns]"
            ]
          },
          "metadata": {
            "tags": []
          },
          "execution_count": 16
        }
      ]
    },
    {
      "cell_type": "code",
      "metadata": {
        "id": "M4HeIr8DQ2lp"
      },
      "source": [
        "# Represents every tag in the top N tags as a number\n",
        "sorted_tags = sorted(list(top_tags))\n",
        "tag_to_int = {tag: i for i, tag in enumerate(sorted_tags)}\n",
        "\n",
        "tag_df['Tags'] = tag_df['Tags'].apply(lambda x: {tag_to_int[tag] for tag in x})"
      ],
      "execution_count": null,
      "outputs": []
    },
    {
      "cell_type": "code",
      "metadata": {
        "colab": {
          "base_uri": "https://localhost:8080/",
          "height": 419
        },
        "id": "THz_rv4aTYQs",
        "outputId": "77baae1f-8848-4b97-9963-fafc45031c66"
      },
      "source": [
        "tag_df"
      ],
      "execution_count": null,
      "outputs": [
        {
          "output_type": "execute_result",
          "data": {
            "text/html": [
              "<div>\n",
              "<style scoped>\n",
              "    .dataframe tbody tr th:only-of-type {\n",
              "        vertical-align: middle;\n",
              "    }\n",
              "\n",
              "    .dataframe tbody tr th {\n",
              "        vertical-align: top;\n",
              "    }\n",
              "\n",
              "    .dataframe thead th {\n",
              "        text-align: right;\n",
              "    }\n",
              "</style>\n",
              "<table border=\"1\" class=\"dataframe\">\n",
              "  <thead>\n",
              "    <tr style=\"text-align: right;\">\n",
              "      <th></th>\n",
              "      <th>Tags</th>\n",
              "      <th>Num_Tags</th>\n",
              "      <th>Quality</th>\n",
              "    </tr>\n",
              "  </thead>\n",
              "  <tbody>\n",
              "    <tr>\n",
              "      <th>0</th>\n",
              "      <td>{471}</td>\n",
              "      <td>2</td>\n",
              "      <td>LQ_CLOSE</td>\n",
              "    </tr>\n",
              "    <tr>\n",
              "      <th>1</th>\n",
              "      <td>{628, 471}</td>\n",
              "      <td>2</td>\n",
              "      <td>HQ</td>\n",
              "    </tr>\n",
              "    <tr>\n",
              "      <th>2</th>\n",
              "      <td>{427, 716, 477}</td>\n",
              "      <td>5</td>\n",
              "      <td>HQ</td>\n",
              "    </tr>\n",
              "    <tr>\n",
              "      <th>3</th>\n",
              "      <td>{849, 626, 628}</td>\n",
              "      <td>5</td>\n",
              "      <td>HQ</td>\n",
              "    </tr>\n",
              "    <tr>\n",
              "      <th>4</th>\n",
              "      <td>{552, 24}</td>\n",
              "      <td>3</td>\n",
              "      <td>HQ</td>\n",
              "    </tr>\n",
              "    <tr>\n",
              "      <th>...</th>\n",
              "      <td>...</td>\n",
              "      <td>...</td>\n",
              "      <td>...</td>\n",
              "    </tr>\n",
              "    <tr>\n",
              "      <th>39994</th>\n",
              "      <td>{328, 228, 415}</td>\n",
              "      <td>3</td>\n",
              "      <td>LQ_CLOSE</td>\n",
              "    </tr>\n",
              "    <tr>\n",
              "      <th>39995</th>\n",
              "      <td>{156}</td>\n",
              "      <td>1</td>\n",
              "      <td>LQ_CLOSE</td>\n",
              "    </tr>\n",
              "    <tr>\n",
              "      <th>39996</th>\n",
              "      <td>{153, 938}</td>\n",
              "      <td>2</td>\n",
              "      <td>LQ_CLOSE</td>\n",
              "    </tr>\n",
              "    <tr>\n",
              "      <th>39997</th>\n",
              "      <td>{477, 654, 415}</td>\n",
              "      <td>3</td>\n",
              "      <td>LQ_CLOSE</td>\n",
              "    </tr>\n",
              "    <tr>\n",
              "      <th>39998</th>\n",
              "      <td>{634, 156}</td>\n",
              "      <td>3</td>\n",
              "      <td>LQ_CLOSE</td>\n",
              "    </tr>\n",
              "  </tbody>\n",
              "</table>\n",
              "<p>39999 rows × 3 columns</p>\n",
              "</div>"
            ],
            "text/plain": [
              "                  Tags  Num_Tags   Quality\n",
              "0                {471}         2  LQ_CLOSE\n",
              "1           {628, 471}         2        HQ\n",
              "2      {427, 716, 477}         5        HQ\n",
              "3      {849, 626, 628}         5        HQ\n",
              "4            {552, 24}         3        HQ\n",
              "...                ...       ...       ...\n",
              "39994  {328, 228, 415}         3  LQ_CLOSE\n",
              "39995            {156}         1  LQ_CLOSE\n",
              "39996       {153, 938}         2  LQ_CLOSE\n",
              "39997  {477, 654, 415}         3  LQ_CLOSE\n",
              "39998       {634, 156}         3  LQ_CLOSE\n",
              "\n",
              "[39999 rows x 3 columns]"
            ]
          },
          "metadata": {
            "tags": []
          },
          "execution_count": 18
        }
      ]
    },
    {
      "cell_type": "code",
      "metadata": {
        "colab": {
          "base_uri": "https://localhost:8080/"
        },
        "id": "YC6ggBQySREz",
        "outputId": "4ffc9c1b-ef28-4c6f-8f56-97396fd12b8d"
      },
      "source": [
        "# Encodes the tags with One Hot encoding to represent them\n",
        "def to_onehot(tags):\n",
        "    out = np.zeros(N)\n",
        "    for t in tags:\n",
        "        out[t] = 1\n",
        "    return out\n",
        "\n",
        "tag_df['Onehots'] = tag_df['Tags'].apply(lambda x: to_onehot(x))\n",
        "tag_df['Onehots']"
      ],
      "execution_count": null,
      "outputs": [
        {
          "output_type": "execute_result",
          "data": {
            "text/plain": [
              "0        [0.0, 0.0, 0.0, 0.0, 0.0, 0.0, 0.0, 0.0, 0.0, ...\n",
              "1        [0.0, 0.0, 0.0, 0.0, 0.0, 0.0, 0.0, 0.0, 0.0, ...\n",
              "2        [0.0, 0.0, 0.0, 0.0, 0.0, 0.0, 0.0, 0.0, 0.0, ...\n",
              "3        [0.0, 0.0, 0.0, 0.0, 0.0, 0.0, 0.0, 0.0, 0.0, ...\n",
              "4        [0.0, 0.0, 0.0, 0.0, 0.0, 0.0, 0.0, 0.0, 0.0, ...\n",
              "                               ...                        \n",
              "39994    [0.0, 0.0, 0.0, 0.0, 0.0, 0.0, 0.0, 0.0, 0.0, ...\n",
              "39995    [0.0, 0.0, 0.0, 0.0, 0.0, 0.0, 0.0, 0.0, 0.0, ...\n",
              "39996    [0.0, 0.0, 0.0, 0.0, 0.0, 0.0, 0.0, 0.0, 0.0, ...\n",
              "39997    [0.0, 0.0, 0.0, 0.0, 0.0, 0.0, 0.0, 0.0, 0.0, ...\n",
              "39998    [0.0, 0.0, 0.0, 0.0, 0.0, 0.0, 0.0, 0.0, 0.0, ...\n",
              "Name: Onehots, Length: 39999, dtype: object"
            ]
          },
          "metadata": {
            "tags": []
          },
          "execution_count": 19
        }
      ]
    },
    {
      "cell_type": "code",
      "metadata": {
        "id": "NZ8kITU3XW51"
      },
      "source": [
        "# Makes it so that every possible tag has its own column associated with it\n",
        "one_hot_tag_np = np.stack(tag_df['Onehots'].to_numpy())\n",
        "one_hot_tag_df = pd.DataFrame(data=one_hot_tag_np)"
      ],
      "execution_count": null,
      "outputs": []
    },
    {
      "cell_type": "code",
      "metadata": {
        "colab": {
          "base_uri": "https://localhost:8080/",
          "height": 253
        },
        "id": "jLwadQkgZQ0h",
        "outputId": "930da768-2b83-406d-9071-f756fa0c055a"
      },
      "source": [
        "# Dataframe holding the one hot encoded possible tags\n",
        "one_hot_tag_df.head()"
      ],
      "execution_count": null,
      "outputs": [
        {
          "output_type": "execute_result",
          "data": {
            "text/html": [
              "<div>\n",
              "<style scoped>\n",
              "    .dataframe tbody tr th:only-of-type {\n",
              "        vertical-align: middle;\n",
              "    }\n",
              "\n",
              "    .dataframe tbody tr th {\n",
              "        vertical-align: top;\n",
              "    }\n",
              "\n",
              "    .dataframe thead th {\n",
              "        text-align: right;\n",
              "    }\n",
              "</style>\n",
              "<table border=\"1\" class=\"dataframe\">\n",
              "  <thead>\n",
              "    <tr style=\"text-align: right;\">\n",
              "      <th></th>\n",
              "      <th>0</th>\n",
              "      <th>1</th>\n",
              "      <th>2</th>\n",
              "      <th>3</th>\n",
              "      <th>4</th>\n",
              "      <th>5</th>\n",
              "      <th>6</th>\n",
              "      <th>7</th>\n",
              "      <th>8</th>\n",
              "      <th>9</th>\n",
              "      <th>...</th>\n",
              "      <th>990</th>\n",
              "      <th>991</th>\n",
              "      <th>992</th>\n",
              "      <th>993</th>\n",
              "      <th>994</th>\n",
              "      <th>995</th>\n",
              "      <th>996</th>\n",
              "      <th>997</th>\n",
              "      <th>998</th>\n",
              "      <th>999</th>\n",
              "    </tr>\n",
              "  </thead>\n",
              "  <tbody>\n",
              "    <tr>\n",
              "      <th>0</th>\n",
              "      <td>0.0</td>\n",
              "      <td>0.0</td>\n",
              "      <td>0.0</td>\n",
              "      <td>0.0</td>\n",
              "      <td>0.0</td>\n",
              "      <td>0.0</td>\n",
              "      <td>0.0</td>\n",
              "      <td>0.0</td>\n",
              "      <td>0.0</td>\n",
              "      <td>0.0</td>\n",
              "      <td>...</td>\n",
              "      <td>0.0</td>\n",
              "      <td>0.0</td>\n",
              "      <td>0.0</td>\n",
              "      <td>0.0</td>\n",
              "      <td>0.0</td>\n",
              "      <td>0.0</td>\n",
              "      <td>0.0</td>\n",
              "      <td>0.0</td>\n",
              "      <td>0.0</td>\n",
              "      <td>0.0</td>\n",
              "    </tr>\n",
              "    <tr>\n",
              "      <th>1</th>\n",
              "      <td>0.0</td>\n",
              "      <td>0.0</td>\n",
              "      <td>0.0</td>\n",
              "      <td>0.0</td>\n",
              "      <td>0.0</td>\n",
              "      <td>0.0</td>\n",
              "      <td>0.0</td>\n",
              "      <td>0.0</td>\n",
              "      <td>0.0</td>\n",
              "      <td>0.0</td>\n",
              "      <td>...</td>\n",
              "      <td>0.0</td>\n",
              "      <td>0.0</td>\n",
              "      <td>0.0</td>\n",
              "      <td>0.0</td>\n",
              "      <td>0.0</td>\n",
              "      <td>0.0</td>\n",
              "      <td>0.0</td>\n",
              "      <td>0.0</td>\n",
              "      <td>0.0</td>\n",
              "      <td>0.0</td>\n",
              "    </tr>\n",
              "    <tr>\n",
              "      <th>2</th>\n",
              "      <td>0.0</td>\n",
              "      <td>0.0</td>\n",
              "      <td>0.0</td>\n",
              "      <td>0.0</td>\n",
              "      <td>0.0</td>\n",
              "      <td>0.0</td>\n",
              "      <td>0.0</td>\n",
              "      <td>0.0</td>\n",
              "      <td>0.0</td>\n",
              "      <td>0.0</td>\n",
              "      <td>...</td>\n",
              "      <td>0.0</td>\n",
              "      <td>0.0</td>\n",
              "      <td>0.0</td>\n",
              "      <td>0.0</td>\n",
              "      <td>0.0</td>\n",
              "      <td>0.0</td>\n",
              "      <td>0.0</td>\n",
              "      <td>0.0</td>\n",
              "      <td>0.0</td>\n",
              "      <td>0.0</td>\n",
              "    </tr>\n",
              "    <tr>\n",
              "      <th>3</th>\n",
              "      <td>0.0</td>\n",
              "      <td>0.0</td>\n",
              "      <td>0.0</td>\n",
              "      <td>0.0</td>\n",
              "      <td>0.0</td>\n",
              "      <td>0.0</td>\n",
              "      <td>0.0</td>\n",
              "      <td>0.0</td>\n",
              "      <td>0.0</td>\n",
              "      <td>0.0</td>\n",
              "      <td>...</td>\n",
              "      <td>0.0</td>\n",
              "      <td>0.0</td>\n",
              "      <td>0.0</td>\n",
              "      <td>0.0</td>\n",
              "      <td>0.0</td>\n",
              "      <td>0.0</td>\n",
              "      <td>0.0</td>\n",
              "      <td>0.0</td>\n",
              "      <td>0.0</td>\n",
              "      <td>0.0</td>\n",
              "    </tr>\n",
              "    <tr>\n",
              "      <th>4</th>\n",
              "      <td>0.0</td>\n",
              "      <td>0.0</td>\n",
              "      <td>0.0</td>\n",
              "      <td>0.0</td>\n",
              "      <td>0.0</td>\n",
              "      <td>0.0</td>\n",
              "      <td>0.0</td>\n",
              "      <td>0.0</td>\n",
              "      <td>0.0</td>\n",
              "      <td>0.0</td>\n",
              "      <td>...</td>\n",
              "      <td>0.0</td>\n",
              "      <td>0.0</td>\n",
              "      <td>0.0</td>\n",
              "      <td>0.0</td>\n",
              "      <td>0.0</td>\n",
              "      <td>0.0</td>\n",
              "      <td>0.0</td>\n",
              "      <td>0.0</td>\n",
              "      <td>0.0</td>\n",
              "      <td>0.0</td>\n",
              "    </tr>\n",
              "  </tbody>\n",
              "</table>\n",
              "<p>5 rows × 1000 columns</p>\n",
              "</div>"
            ],
            "text/plain": [
              "   0    1    2    3    4    5    6    7    8    9    ...  990  991  992  993  \\\n",
              "0  0.0  0.0  0.0  0.0  0.0  0.0  0.0  0.0  0.0  0.0  ...  0.0  0.0  0.0  0.0   \n",
              "1  0.0  0.0  0.0  0.0  0.0  0.0  0.0  0.0  0.0  0.0  ...  0.0  0.0  0.0  0.0   \n",
              "2  0.0  0.0  0.0  0.0  0.0  0.0  0.0  0.0  0.0  0.0  ...  0.0  0.0  0.0  0.0   \n",
              "3  0.0  0.0  0.0  0.0  0.0  0.0  0.0  0.0  0.0  0.0  ...  0.0  0.0  0.0  0.0   \n",
              "4  0.0  0.0  0.0  0.0  0.0  0.0  0.0  0.0  0.0  0.0  ...  0.0  0.0  0.0  0.0   \n",
              "\n",
              "   994  995  996  997  998  999  \n",
              "0  0.0  0.0  0.0  0.0  0.0  0.0  \n",
              "1  0.0  0.0  0.0  0.0  0.0  0.0  \n",
              "2  0.0  0.0  0.0  0.0  0.0  0.0  \n",
              "3  0.0  0.0  0.0  0.0  0.0  0.0  \n",
              "4  0.0  0.0  0.0  0.0  0.0  0.0  \n",
              "\n",
              "[5 rows x 1000 columns]"
            ]
          },
          "metadata": {
            "tags": []
          },
          "execution_count": 21
        }
      ]
    },
    {
      "cell_type": "code",
      "metadata": {
        "colab": {
          "base_uri": "https://localhost:8080/"
        },
        "id": "exv6eQ-_Vwsd",
        "outputId": "5a8ee75f-5a59-49f0-fc6c-79fa7230074f"
      },
      "source": [
        "# Dataframe holding the number of tags for each value\n",
        "num_tags_df = tag_df['Num_Tags']\n",
        "num_tags_df.head()"
      ],
      "execution_count": null,
      "outputs": [
        {
          "output_type": "execute_result",
          "data": {
            "text/plain": [
              "0    2\n",
              "1    2\n",
              "2    5\n",
              "3    5\n",
              "4    3\n",
              "Name: Num_Tags, dtype: int64"
            ]
          },
          "metadata": {
            "tags": []
          },
          "execution_count": 22
        }
      ]
    },
    {
      "cell_type": "markdown",
      "metadata": {
        "id": "sIOb3SXXt1Dn"
      },
      "source": [
        "## Hour Data"
      ]
    },
    {
      "cell_type": "code",
      "metadata": {
        "id": "55k4UaLwuzwB"
      },
      "source": [
        "# Gets rid of SettingWithCopyWarning that has no negative affect on result\n",
        "pd.options.mode.chained_assignment = None  # default='warn'"
      ],
      "execution_count": null,
      "outputs": []
    },
    {
      "cell_type": "code",
      "metadata": {
        "colab": {
          "base_uri": "https://localhost:8080/",
          "height": 204
        },
        "id": "T3vG4qIMuexi",
        "outputId": "3bcf632c-e66a-4b5d-83d8-6728126ff18b"
      },
      "source": [
        "# Gets the quality by hour that the post was created\n",
        "quality_by_hour = data[['CreationDate','Y']]\n",
        "quality_by_hour['CreationDate'] = pd.to_datetime(quality_by_hour['CreationDate'], errors='coerce', format=\"%m/%d/%Y %H:%M\")\n",
        "quality_by_hour = quality_by_hour.rename(columns={\"CreationDate\": \"Hour\", \"Y\": \"Quality\"})\n",
        "quality_by_hour['Hour'] = quality_by_hour['Hour'].dt.strftime('%H')\n",
        "quality_by_hour.head()"
      ],
      "execution_count": null,
      "outputs": [
        {
          "output_type": "execute_result",
          "data": {
            "text/html": [
              "<div>\n",
              "<style scoped>\n",
              "    .dataframe tbody tr th:only-of-type {\n",
              "        vertical-align: middle;\n",
              "    }\n",
              "\n",
              "    .dataframe tbody tr th {\n",
              "        vertical-align: top;\n",
              "    }\n",
              "\n",
              "    .dataframe thead th {\n",
              "        text-align: right;\n",
              "    }\n",
              "</style>\n",
              "<table border=\"1\" class=\"dataframe\">\n",
              "  <thead>\n",
              "    <tr style=\"text-align: right;\">\n",
              "      <th></th>\n",
              "      <th>Hour</th>\n",
              "      <th>Quality</th>\n",
              "    </tr>\n",
              "  </thead>\n",
              "  <tbody>\n",
              "    <tr>\n",
              "      <th>0</th>\n",
              "      <td>00</td>\n",
              "      <td>LQ_CLOSE</td>\n",
              "    </tr>\n",
              "    <tr>\n",
              "      <th>1</th>\n",
              "      <td>02</td>\n",
              "      <td>HQ</td>\n",
              "    </tr>\n",
              "    <tr>\n",
              "      <th>2</th>\n",
              "      <td>02</td>\n",
              "      <td>HQ</td>\n",
              "    </tr>\n",
              "    <tr>\n",
              "      <th>3</th>\n",
              "      <td>03</td>\n",
              "      <td>HQ</td>\n",
              "    </tr>\n",
              "    <tr>\n",
              "      <th>4</th>\n",
              "      <td>05</td>\n",
              "      <td>HQ</td>\n",
              "    </tr>\n",
              "  </tbody>\n",
              "</table>\n",
              "</div>"
            ],
            "text/plain": [
              "  Hour   Quality\n",
              "0   00  LQ_CLOSE\n",
              "1   02        HQ\n",
              "2   02        HQ\n",
              "3   03        HQ\n",
              "4   05        HQ"
            ]
          },
          "metadata": {
            "tags": []
          },
          "execution_count": 24
        }
      ]
    },
    {
      "cell_type": "code",
      "metadata": {
        "colab": {
          "base_uri": "https://localhost:8080/"
        },
        "id": "GzBahi51tlxB",
        "outputId": "cd3f383d-55c1-4f48-ebe6-e78d9fd4c0d4"
      },
      "source": [
        "hour_df = quality_by_hour['Hour']\n",
        "hour_df.head()"
      ],
      "execution_count": null,
      "outputs": [
        {
          "output_type": "execute_result",
          "data": {
            "text/plain": [
              "0    00\n",
              "1    02\n",
              "2    02\n",
              "3    03\n",
              "4    05\n",
              "Name: Hour, dtype: object"
            ]
          },
          "metadata": {
            "tags": []
          },
          "execution_count": 25
        }
      ]
    },
    {
      "cell_type": "markdown",
      "metadata": {
        "id": "1VZFxc3EvWmV"
      },
      "source": [
        "## Body Format Data"
      ]
    },
    {
      "cell_type": "markdown",
      "metadata": {
        "id": "sUJxIINMvub4"
      },
      "source": [
        "### Body Has Code"
      ]
    },
    {
      "cell_type": "code",
      "metadata": {
        "colab": {
          "base_uri": "https://localhost:8080/",
          "height": 204
        },
        "id": "TM4jZGVfvZQ8",
        "outputId": "d0af368c-cb19-42b4-975e-249043692e98"
      },
      "source": [
        "# Checks to see if the Body of the post has code embeded \n",
        "body_has_code = pd.DataFrame() \n",
        "body_has_code['Code'] = data['Body'].apply(lambda x: int('<code>' in x))\n",
        "body_has_code['Quality'] = data['Y']\n",
        "body_has_code.head()"
      ],
      "execution_count": null,
      "outputs": [
        {
          "output_type": "execute_result",
          "data": {
            "text/html": [
              "<div>\n",
              "<style scoped>\n",
              "    .dataframe tbody tr th:only-of-type {\n",
              "        vertical-align: middle;\n",
              "    }\n",
              "\n",
              "    .dataframe tbody tr th {\n",
              "        vertical-align: top;\n",
              "    }\n",
              "\n",
              "    .dataframe thead th {\n",
              "        text-align: right;\n",
              "    }\n",
              "</style>\n",
              "<table border=\"1\" class=\"dataframe\">\n",
              "  <thead>\n",
              "    <tr style=\"text-align: right;\">\n",
              "      <th></th>\n",
              "      <th>Code</th>\n",
              "      <th>Quality</th>\n",
              "    </tr>\n",
              "  </thead>\n",
              "  <tbody>\n",
              "    <tr>\n",
              "      <th>0</th>\n",
              "      <td>0</td>\n",
              "      <td>LQ_CLOSE</td>\n",
              "    </tr>\n",
              "    <tr>\n",
              "      <th>1</th>\n",
              "      <td>0</td>\n",
              "      <td>HQ</td>\n",
              "    </tr>\n",
              "    <tr>\n",
              "      <th>2</th>\n",
              "      <td>1</td>\n",
              "      <td>HQ</td>\n",
              "    </tr>\n",
              "    <tr>\n",
              "      <th>3</th>\n",
              "      <td>1</td>\n",
              "      <td>HQ</td>\n",
              "    </tr>\n",
              "    <tr>\n",
              "      <th>4</th>\n",
              "      <td>0</td>\n",
              "      <td>HQ</td>\n",
              "    </tr>\n",
              "  </tbody>\n",
              "</table>\n",
              "</div>"
            ],
            "text/plain": [
              "   Code   Quality\n",
              "0     0  LQ_CLOSE\n",
              "1     0        HQ\n",
              "2     1        HQ\n",
              "3     1        HQ\n",
              "4     0        HQ"
            ]
          },
          "metadata": {
            "tags": []
          },
          "execution_count": 26
        }
      ]
    },
    {
      "cell_type": "markdown",
      "metadata": {
        "id": "BbcfHXchvxUJ"
      },
      "source": [
        "### Body Has an Image"
      ]
    },
    {
      "cell_type": "code",
      "metadata": {
        "colab": {
          "base_uri": "https://localhost:8080/",
          "height": 204
        },
        "id": "QJe2SPWxvsnR",
        "outputId": "246dfb63-e648-4bbf-acaf-f5979708c082"
      },
      "source": [
        "# Checks to see if the Body of the post has an image embeded \n",
        "body_has_img = pd.DataFrame() \n",
        "body_has_img['Img'] = data['Body'].apply(lambda x: int('<img' in x))\n",
        "body_has_img['Quality'] = data['Y']\n",
        "body_has_img.head()"
      ],
      "execution_count": null,
      "outputs": [
        {
          "output_type": "execute_result",
          "data": {
            "text/html": [
              "<div>\n",
              "<style scoped>\n",
              "    .dataframe tbody tr th:only-of-type {\n",
              "        vertical-align: middle;\n",
              "    }\n",
              "\n",
              "    .dataframe tbody tr th {\n",
              "        vertical-align: top;\n",
              "    }\n",
              "\n",
              "    .dataframe thead th {\n",
              "        text-align: right;\n",
              "    }\n",
              "</style>\n",
              "<table border=\"1\" class=\"dataframe\">\n",
              "  <thead>\n",
              "    <tr style=\"text-align: right;\">\n",
              "      <th></th>\n",
              "      <th>Img</th>\n",
              "      <th>Quality</th>\n",
              "    </tr>\n",
              "  </thead>\n",
              "  <tbody>\n",
              "    <tr>\n",
              "      <th>0</th>\n",
              "      <td>0</td>\n",
              "      <td>LQ_CLOSE</td>\n",
              "    </tr>\n",
              "    <tr>\n",
              "      <th>1</th>\n",
              "      <td>0</td>\n",
              "      <td>HQ</td>\n",
              "    </tr>\n",
              "    <tr>\n",
              "      <th>2</th>\n",
              "      <td>1</td>\n",
              "      <td>HQ</td>\n",
              "    </tr>\n",
              "    <tr>\n",
              "      <th>3</th>\n",
              "      <td>0</td>\n",
              "      <td>HQ</td>\n",
              "    </tr>\n",
              "    <tr>\n",
              "      <th>4</th>\n",
              "      <td>0</td>\n",
              "      <td>HQ</td>\n",
              "    </tr>\n",
              "  </tbody>\n",
              "</table>\n",
              "</div>"
            ],
            "text/plain": [
              "   Img   Quality\n",
              "0    0  LQ_CLOSE\n",
              "1    0        HQ\n",
              "2    1        HQ\n",
              "3    0        HQ\n",
              "4    0        HQ"
            ]
          },
          "metadata": {
            "tags": []
          },
          "execution_count": 27
        }
      ]
    },
    {
      "cell_type": "markdown",
      "metadata": {
        "id": "gws6pB-rv3vj"
      },
      "source": [
        "### Body Has a URL"
      ]
    },
    {
      "cell_type": "code",
      "metadata": {
        "colab": {
          "base_uri": "https://localhost:8080/",
          "height": 204
        },
        "id": "2RRGI-GZv6oy",
        "outputId": "e6a9d59c-1bab-4329-ea53-5ede90177e07"
      },
      "source": [
        "# Checks to see if the Body of the post has a url embeded \n",
        "body_has_url = pd.DataFrame() \n",
        "body_has_url['Url'] = data['Body'].apply(lambda x: int('<a href' in x))\n",
        "body_has_url['Quality'] = data['Y']\n",
        "body_has_url.head()"
      ],
      "execution_count": null,
      "outputs": [
        {
          "output_type": "execute_result",
          "data": {
            "text/html": [
              "<div>\n",
              "<style scoped>\n",
              "    .dataframe tbody tr th:only-of-type {\n",
              "        vertical-align: middle;\n",
              "    }\n",
              "\n",
              "    .dataframe tbody tr th {\n",
              "        vertical-align: top;\n",
              "    }\n",
              "\n",
              "    .dataframe thead th {\n",
              "        text-align: right;\n",
              "    }\n",
              "</style>\n",
              "<table border=\"1\" class=\"dataframe\">\n",
              "  <thead>\n",
              "    <tr style=\"text-align: right;\">\n",
              "      <th></th>\n",
              "      <th>Url</th>\n",
              "      <th>Quality</th>\n",
              "    </tr>\n",
              "  </thead>\n",
              "  <tbody>\n",
              "    <tr>\n",
              "      <th>0</th>\n",
              "      <td>0</td>\n",
              "      <td>LQ_CLOSE</td>\n",
              "    </tr>\n",
              "    <tr>\n",
              "      <th>1</th>\n",
              "      <td>0</td>\n",
              "      <td>HQ</td>\n",
              "    </tr>\n",
              "    <tr>\n",
              "      <th>2</th>\n",
              "      <td>1</td>\n",
              "      <td>HQ</td>\n",
              "    </tr>\n",
              "    <tr>\n",
              "      <th>3</th>\n",
              "      <td>0</td>\n",
              "      <td>HQ</td>\n",
              "    </tr>\n",
              "    <tr>\n",
              "      <th>4</th>\n",
              "      <td>1</td>\n",
              "      <td>HQ</td>\n",
              "    </tr>\n",
              "  </tbody>\n",
              "</table>\n",
              "</div>"
            ],
            "text/plain": [
              "   Url   Quality\n",
              "0    0  LQ_CLOSE\n",
              "1    0        HQ\n",
              "2    1        HQ\n",
              "3    0        HQ\n",
              "4    1        HQ"
            ]
          },
          "metadata": {
            "tags": []
          },
          "execution_count": 28
        }
      ]
    },
    {
      "cell_type": "markdown",
      "metadata": {
        "id": "zicI5vDKwLFR"
      },
      "source": [
        "###Body Has Lists"
      ]
    },
    {
      "cell_type": "code",
      "metadata": {
        "colab": {
          "base_uri": "https://localhost:8080/",
          "height": 204
        },
        "id": "-wS5AZojwN9R",
        "outputId": "196d9cf0-8311-43ee-ac66-27e91276d852"
      },
      "source": [
        "# Checks to see if the Body of the post has lists embeded \n",
        "body_has_list = pd.DataFrame() \n",
        "body_has_list['List'] = data['Body'].apply(lambda x: int('<ul>' in x or '<ol>' in x or '<li>' in x or '<dl>' in x or '<dt>' in x or '<dd>' in x))\n",
        "body_has_list['Quality'] = data['Y']\n",
        "body_has_list.head()"
      ],
      "execution_count": null,
      "outputs": [
        {
          "output_type": "execute_result",
          "data": {
            "text/html": [
              "<div>\n",
              "<style scoped>\n",
              "    .dataframe tbody tr th:only-of-type {\n",
              "        vertical-align: middle;\n",
              "    }\n",
              "\n",
              "    .dataframe tbody tr th {\n",
              "        vertical-align: top;\n",
              "    }\n",
              "\n",
              "    .dataframe thead th {\n",
              "        text-align: right;\n",
              "    }\n",
              "</style>\n",
              "<table border=\"1\" class=\"dataframe\">\n",
              "  <thead>\n",
              "    <tr style=\"text-align: right;\">\n",
              "      <th></th>\n",
              "      <th>List</th>\n",
              "      <th>Quality</th>\n",
              "    </tr>\n",
              "  </thead>\n",
              "  <tbody>\n",
              "    <tr>\n",
              "      <th>0</th>\n",
              "      <td>0</td>\n",
              "      <td>LQ_CLOSE</td>\n",
              "    </tr>\n",
              "    <tr>\n",
              "      <th>1</th>\n",
              "      <td>0</td>\n",
              "      <td>HQ</td>\n",
              "    </tr>\n",
              "    <tr>\n",
              "      <th>2</th>\n",
              "      <td>0</td>\n",
              "      <td>HQ</td>\n",
              "    </tr>\n",
              "    <tr>\n",
              "      <th>3</th>\n",
              "      <td>0</td>\n",
              "      <td>HQ</td>\n",
              "    </tr>\n",
              "    <tr>\n",
              "      <th>4</th>\n",
              "      <td>0</td>\n",
              "      <td>HQ</td>\n",
              "    </tr>\n",
              "  </tbody>\n",
              "</table>\n",
              "</div>"
            ],
            "text/plain": [
              "   List   Quality\n",
              "0     0  LQ_CLOSE\n",
              "1     0        HQ\n",
              "2     0        HQ\n",
              "3     0        HQ\n",
              "4     0        HQ"
            ]
          },
          "metadata": {
            "tags": []
          },
          "execution_count": 29
        }
      ]
    },
    {
      "cell_type": "markdown",
      "metadata": {
        "id": "8j2EIxJYwUyw"
      },
      "source": [
        "### Number of Paragraphs"
      ]
    },
    {
      "cell_type": "code",
      "metadata": {
        "colab": {
          "base_uri": "https://localhost:8080/",
          "height": 204
        },
        "id": "YtLbI6J6wXKE",
        "outputId": "4fcfb8eb-b021-4551-afb2-07fb84812205"
      },
      "source": [
        "# Counts the number of paragraphs in the body\n",
        "body_paragraph_count = pd.DataFrame() \n",
        "body_paragraph_count['Count'] = data['Body'].apply(lambda x: x.count('<p>'))\n",
        "body_paragraph_count['Quality'] = data['Y']\n",
        "body_paragraph_count.head()"
      ],
      "execution_count": null,
      "outputs": [
        {
          "output_type": "execute_result",
          "data": {
            "text/html": [
              "<div>\n",
              "<style scoped>\n",
              "    .dataframe tbody tr th:only-of-type {\n",
              "        vertical-align: middle;\n",
              "    }\n",
              "\n",
              "    .dataframe tbody tr th {\n",
              "        vertical-align: top;\n",
              "    }\n",
              "\n",
              "    .dataframe thead th {\n",
              "        text-align: right;\n",
              "    }\n",
              "</style>\n",
              "<table border=\"1\" class=\"dataframe\">\n",
              "  <thead>\n",
              "    <tr style=\"text-align: right;\">\n",
              "      <th></th>\n",
              "      <th>Count</th>\n",
              "      <th>Quality</th>\n",
              "    </tr>\n",
              "  </thead>\n",
              "  <tbody>\n",
              "    <tr>\n",
              "      <th>0</th>\n",
              "      <td>1</td>\n",
              "      <td>LQ_CLOSE</td>\n",
              "    </tr>\n",
              "    <tr>\n",
              "      <th>1</th>\n",
              "      <td>1</td>\n",
              "      <td>HQ</td>\n",
              "    </tr>\n",
              "    <tr>\n",
              "      <th>2</th>\n",
              "      <td>3</td>\n",
              "      <td>HQ</td>\n",
              "    </tr>\n",
              "    <tr>\n",
              "      <th>3</th>\n",
              "      <td>8</td>\n",
              "      <td>HQ</td>\n",
              "    </tr>\n",
              "    <tr>\n",
              "      <th>4</th>\n",
              "      <td>2</td>\n",
              "      <td>HQ</td>\n",
              "    </tr>\n",
              "  </tbody>\n",
              "</table>\n",
              "</div>"
            ],
            "text/plain": [
              "   Count   Quality\n",
              "0      1  LQ_CLOSE\n",
              "1      1        HQ\n",
              "2      3        HQ\n",
              "3      8        HQ\n",
              "4      2        HQ"
            ]
          },
          "metadata": {
            "tags": []
          },
          "execution_count": 30
        }
      ]
    },
    {
      "cell_type": "code",
      "metadata": {
        "colab": {
          "base_uri": "https://localhost:8080/",
          "height": 419
        },
        "id": "2JBcP1WlwlJb",
        "outputId": "48baf046-ec96-487d-d957-7f6b3bc3deb3"
      },
      "source": [
        "# Combines all of the body format data into one dataframe\n",
        "format_df = pd.DataFrame()\n",
        "format_df['Code'] = body_has_code['Code']\n",
        "format_df['Img'] = body_has_img['Img']\n",
        "format_df['Url'] = body_has_url['Url']\n",
        "format_df['List'] = body_has_list['List']\n",
        "format_df['Paragraphs'] = body_paragraph_count['Count']\n",
        "format_df"
      ],
      "execution_count": null,
      "outputs": [
        {
          "output_type": "execute_result",
          "data": {
            "text/html": [
              "<div>\n",
              "<style scoped>\n",
              "    .dataframe tbody tr th:only-of-type {\n",
              "        vertical-align: middle;\n",
              "    }\n",
              "\n",
              "    .dataframe tbody tr th {\n",
              "        vertical-align: top;\n",
              "    }\n",
              "\n",
              "    .dataframe thead th {\n",
              "        text-align: right;\n",
              "    }\n",
              "</style>\n",
              "<table border=\"1\" class=\"dataframe\">\n",
              "  <thead>\n",
              "    <tr style=\"text-align: right;\">\n",
              "      <th></th>\n",
              "      <th>Code</th>\n",
              "      <th>Img</th>\n",
              "      <th>Url</th>\n",
              "      <th>List</th>\n",
              "      <th>Paragraphs</th>\n",
              "    </tr>\n",
              "  </thead>\n",
              "  <tbody>\n",
              "    <tr>\n",
              "      <th>0</th>\n",
              "      <td>0</td>\n",
              "      <td>0</td>\n",
              "      <td>0</td>\n",
              "      <td>0</td>\n",
              "      <td>1</td>\n",
              "    </tr>\n",
              "    <tr>\n",
              "      <th>1</th>\n",
              "      <td>0</td>\n",
              "      <td>0</td>\n",
              "      <td>0</td>\n",
              "      <td>0</td>\n",
              "      <td>1</td>\n",
              "    </tr>\n",
              "    <tr>\n",
              "      <th>2</th>\n",
              "      <td>1</td>\n",
              "      <td>1</td>\n",
              "      <td>1</td>\n",
              "      <td>0</td>\n",
              "      <td>3</td>\n",
              "    </tr>\n",
              "    <tr>\n",
              "      <th>3</th>\n",
              "      <td>1</td>\n",
              "      <td>0</td>\n",
              "      <td>0</td>\n",
              "      <td>0</td>\n",
              "      <td>8</td>\n",
              "    </tr>\n",
              "    <tr>\n",
              "      <th>4</th>\n",
              "      <td>0</td>\n",
              "      <td>0</td>\n",
              "      <td>1</td>\n",
              "      <td>0</td>\n",
              "      <td>2</td>\n",
              "    </tr>\n",
              "    <tr>\n",
              "      <th>...</th>\n",
              "      <td>...</td>\n",
              "      <td>...</td>\n",
              "      <td>...</td>\n",
              "      <td>...</td>\n",
              "      <td>...</td>\n",
              "    </tr>\n",
              "    <tr>\n",
              "      <th>39994</th>\n",
              "      <td>1</td>\n",
              "      <td>1</td>\n",
              "      <td>1</td>\n",
              "      <td>0</td>\n",
              "      <td>6</td>\n",
              "    </tr>\n",
              "    <tr>\n",
              "      <th>39995</th>\n",
              "      <td>1</td>\n",
              "      <td>0</td>\n",
              "      <td>0</td>\n",
              "      <td>0</td>\n",
              "      <td>2</td>\n",
              "    </tr>\n",
              "    <tr>\n",
              "      <th>39996</th>\n",
              "      <td>0</td>\n",
              "      <td>0</td>\n",
              "      <td>0</td>\n",
              "      <td>0</td>\n",
              "      <td>3</td>\n",
              "    </tr>\n",
              "    <tr>\n",
              "      <th>39997</th>\n",
              "      <td>1</td>\n",
              "      <td>0</td>\n",
              "      <td>1</td>\n",
              "      <td>0</td>\n",
              "      <td>2</td>\n",
              "    </tr>\n",
              "    <tr>\n",
              "      <th>39998</th>\n",
              "      <td>1</td>\n",
              "      <td>0</td>\n",
              "      <td>0</td>\n",
              "      <td>0</td>\n",
              "      <td>5</td>\n",
              "    </tr>\n",
              "  </tbody>\n",
              "</table>\n",
              "<p>39999 rows × 5 columns</p>\n",
              "</div>"
            ],
            "text/plain": [
              "       Code  Img  Url  List  Paragraphs\n",
              "0         0    0    0     0           1\n",
              "1         0    0    0     0           1\n",
              "2         1    1    1     0           3\n",
              "3         1    0    0     0           8\n",
              "4         0    0    1     0           2\n",
              "...     ...  ...  ...   ...         ...\n",
              "39994     1    1    1     0           6\n",
              "39995     1    0    0     0           2\n",
              "39996     0    0    0     0           3\n",
              "39997     1    0    1     0           2\n",
              "39998     1    0    0     0           5\n",
              "\n",
              "[39999 rows x 5 columns]"
            ]
          },
          "metadata": {
            "tags": []
          },
          "execution_count": 31
        }
      ]
    },
    {
      "cell_type": "markdown",
      "metadata": {
        "id": "uKstq2AFxTD0"
      },
      "source": [
        "## Title Format Data"
      ]
    },
    {
      "cell_type": "markdown",
      "metadata": {
        "id": "P0e1JngHxWUI"
      },
      "source": [
        "###Title Length"
      ]
    },
    {
      "cell_type": "code",
      "metadata": {
        "colab": {
          "base_uri": "https://localhost:8080/",
          "height": 204
        },
        "id": "FBiWjw_bxhBO",
        "outputId": "18303ec5-758a-4425-88b8-cef836ff3d59"
      },
      "source": [
        "# Separates title and quality into new dataframe\n",
        "quality_by_title = data[['Title','Y']]\n",
        "quality_by_title.head()"
      ],
      "execution_count": null,
      "outputs": [
        {
          "output_type": "execute_result",
          "data": {
            "text/html": [
              "<div>\n",
              "<style scoped>\n",
              "    .dataframe tbody tr th:only-of-type {\n",
              "        vertical-align: middle;\n",
              "    }\n",
              "\n",
              "    .dataframe tbody tr th {\n",
              "        vertical-align: top;\n",
              "    }\n",
              "\n",
              "    .dataframe thead th {\n",
              "        text-align: right;\n",
              "    }\n",
              "</style>\n",
              "<table border=\"1\" class=\"dataframe\">\n",
              "  <thead>\n",
              "    <tr style=\"text-align: right;\">\n",
              "      <th></th>\n",
              "      <th>Title</th>\n",
              "      <th>Y</th>\n",
              "    </tr>\n",
              "  </thead>\n",
              "  <tbody>\n",
              "    <tr>\n",
              "      <th>0</th>\n",
              "      <td>Java: Repeat Task Every Random Seconds</td>\n",
              "      <td>LQ_CLOSE</td>\n",
              "    </tr>\n",
              "    <tr>\n",
              "      <th>1</th>\n",
              "      <td>Why are Java Optionals immutable?</td>\n",
              "      <td>HQ</td>\n",
              "    </tr>\n",
              "    <tr>\n",
              "      <th>2</th>\n",
              "      <td>Text Overlay Image with Darkened Opacity React...</td>\n",
              "      <td>HQ</td>\n",
              "    </tr>\n",
              "    <tr>\n",
              "      <th>3</th>\n",
              "      <td>Why ternary operator in swift is so picky?</td>\n",
              "      <td>HQ</td>\n",
              "    </tr>\n",
              "    <tr>\n",
              "      <th>4</th>\n",
              "      <td>hide/show fab with scale animation</td>\n",
              "      <td>HQ</td>\n",
              "    </tr>\n",
              "  </tbody>\n",
              "</table>\n",
              "</div>"
            ],
            "text/plain": [
              "                                               Title         Y\n",
              "0             Java: Repeat Task Every Random Seconds  LQ_CLOSE\n",
              "1                  Why are Java Optionals immutable?        HQ\n",
              "2  Text Overlay Image with Darkened Opacity React...        HQ\n",
              "3         Why ternary operator in swift is so picky?        HQ\n",
              "4                 hide/show fab with scale animation        HQ"
            ]
          },
          "metadata": {
            "tags": []
          },
          "execution_count": 32
        }
      ]
    },
    {
      "cell_type": "markdown",
      "metadata": {
        "id": "Jqg26TcvxpCO"
      },
      "source": [
        "### Import Stop Words"
      ]
    },
    {
      "cell_type": "code",
      "metadata": {
        "colab": {
          "base_uri": "https://localhost:8080/"
        },
        "id": "4-8lfkPRxoM3",
        "outputId": "3f2b70db-f65c-4b38-d73b-bd388532e14a"
      },
      "source": [
        "# Reads stopwords data from file\n",
        "stopwords_path = 'data/stopwords.txt'\n",
        "\n",
        "stop_words = []\n",
        "\n",
        "with open(stopwords_path, \"r\") as f:\n",
        "    for line in f:\n",
        "        stop_words.extend(line.split()) \n",
        "        \n",
        "stop_words = stop_words  \n",
        "print(stop_words)"
      ],
      "execution_count": null,
      "outputs": [
        {
          "output_type": "stream",
          "text": [
            "['a', \"a's\", 'able', 'about', 'above', 'according', 'accordingly', 'across', 'actually', 'after', 'afterwards', 'again', 'against', \"ain't\", 'all', 'allow', 'allows', 'almost', 'alone', 'along', 'already', 'also', 'although', 'always', 'am', 'among', 'amongst', 'an', 'and', 'another', 'any', 'anybody', 'anyhow', 'anyone', 'anything', 'anyway', 'anyways', 'anywhere', 'apart', 'appear', 'appreciate', 'appropriate', 'are', \"aren't\", 'around', 'as', 'aside', 'ask', 'asking', 'associated', 'at', 'available', 'away', 'awfully', 'b', 'be', 'became', 'because', 'become', 'becomes', 'becoming', 'been', 'before', 'beforehand', 'behind', 'being', 'believe', 'below', 'beside', 'besides', 'best', 'better', 'between', 'beyond', 'both', 'brief', 'but', 'by', 'c', \"c'mon\", \"c's\", 'came', 'can', \"can't\", 'cannot', 'cant', 'cause', 'causes', 'certain', 'certainly', 'changes', 'clearly', 'co', 'com', 'come', 'comes', 'concerning', 'consequently', 'consider', 'considering', 'contain', 'containing', 'contains', 'corresponding', 'could', \"couldn't\", 'course', 'currently', 'd', 'definitely', 'described', 'despite', 'did', \"didn't\", 'different', 'do', 'does', \"doesn't\", 'doing', \"don't\", 'done', 'down', 'downwards', 'during', 'e', 'each', 'edu', 'eg', 'eight', 'either', 'else', 'elsewhere', 'enough', 'entirely', 'especially', 'et', 'etc', 'even', 'ever', 'every', 'everybody', 'everyone', 'everything', 'everywhere', 'ex', 'exactly', 'example', 'except', 'f', 'far', 'few', 'fifth', 'first', 'five', 'followed', 'following', 'follows', 'for', 'former', 'formerly', 'forth', 'four', 'from', 'further', 'furthermore', 'g', 'get', 'gets', 'getting', 'given', 'gives', 'go', 'goes', 'going', 'gone', 'got', 'gotten', 'greetings', 'h', 'had', \"hadn't\", 'happens', 'hardly', 'has', \"hasn't\", 'have', \"haven't\", 'having', 'he', \"he's\", 'hello', 'help', 'hence', 'her', 'here', \"here's\", 'hereafter', 'hereby', 'herein', 'hereupon', 'hers', 'herself', 'hi', 'him', 'himself', 'his', 'hither', 'hopefully', 'how', 'howbeit', 'however', 'i', \"i'd\", \"i'll\", \"i'm\", \"i've\", 'ie', 'if', 'ignored', 'immediate', 'in', 'inasmuch', 'inc', 'indeed', 'indicate', 'indicated', 'indicates', 'inner', 'insofar', 'instead', 'into', 'inward', 'is', \"isn't\", 'it', \"it'd\", \"it'll\", \"it's\", 'its', 'itself', 'j', 'just', 'k', 'keep', 'keeps', 'kept', 'know', 'knows', 'known', 'l', 'last', 'lately', 'later', 'latter', 'latterly', 'least', 'less', 'lest', 'let', \"let's\", 'like', 'liked', 'likely', 'little', 'look', 'looking', 'looks', 'ltd', 'm', 'mainly', 'many', 'may', 'maybe', 'me', 'mean', 'meanwhile', 'merely', 'might', 'more', 'moreover', 'most', 'mostly', 'much', 'must', 'my', 'myself', 'n', 'name', 'namely', 'nd', 'near', 'nearly', 'necessary', 'need', 'needs', 'neither', 'never', 'nevertheless', 'new', 'next', 'nine', 'no', 'nobody', 'non', 'none', 'noone', 'nor', 'normally', 'not', 'nothing', 'novel', 'now', 'nowhere', 'o', 'obviously', 'of', 'off', 'often', 'oh', 'ok', 'okay', 'old', 'on', 'once', 'one', 'ones', 'only', 'onto', 'or', 'other', 'others', 'otherwise', 'ought', 'our', 'ours', 'ourselves', 'out', 'outside', 'over', 'overall', 'own', 'p', 'particular', 'particularly', 'per', 'perhaps', 'placed', 'please', 'plus', 'possible', 'presumably', 'probably', 'provides', 'q', 'que', 'quite', 'qv', 'r', 'rather', 'rd', 're', 'really', 'reasonably', 'regarding', 'regardless', 'regards', 'relatively', 'respectively', 'right', 's', 'said', 'same', 'saw', 'say', 'saying', 'says', 'second', 'secondly', 'see', 'seeing', 'seem', 'seemed', 'seeming', 'seems', 'seen', 'self', 'selves', 'sensible', 'sent', 'serious', 'seriously', 'seven', 'several', 'shall', 'she', 'should', \"shouldn't\", 'since', 'six', 'so', 'some', 'somebody', 'somehow', 'someone', 'something', 'sometime', 'sometimes', 'somewhat', 'somewhere', 'soon', 'sorry', 'specified', 'specify', 'specifying', 'still', 'sub', 'such', 'sup', 'sure', 't', \"t's\", 'take', 'taken', 'tell', 'tends', 'th', 'than', 'thank', 'thanks', 'thanx', 'that', \"that's\", 'thats', 'the', 'their', 'theirs', 'them', 'themselves', 'then', 'thence', 'there', \"there's\", 'thereafter', 'thereby', 'therefore', 'therein', 'theres', 'thereupon', 'these', 'they', \"they'd\", \"they'll\", \"they're\", \"they've\", 'think', 'third', 'this', 'thorough', 'thoroughly', 'those', 'though', 'three', 'through', 'throughout', 'thru', 'thus', 'to', 'together', 'too', 'took', 'toward', 'towards', 'tried', 'tries', 'truly', 'try', 'trying', 'twice', 'two', 'u', 'un', 'under', 'unfortunately', 'unless', 'unlikely', 'until', 'unto', 'up', 'upon', 'us', 'use', 'used', 'useful', 'uses', 'using', 'usually', 'uucp', 'v', 'value', 'various', 'very', 'via', 'viz', 'vs', 'w', 'want', 'wants', 'was', \"wasn't\", 'way', 'we', \"we'd\", \"we'll\", \"we're\", \"we've\", 'welcome', 'well', 'went', 'were', \"weren't\", 'what', \"what's\", 'whatever', 'when', 'whence', 'whenever', 'where', \"where's\", 'whereafter', 'whereas', 'whereby', 'wherein', 'whereupon', 'wherever', 'whether', 'which', 'while', 'whither', 'who', \"who's\", 'whoever', 'whole', 'whom', 'whose', 'why', 'will', 'willing', 'wish', 'with', 'within', 'without', \"won't\", 'wonder', 'would', 'would', \"wouldn't\", 'x', 'y', 'yes', 'yet', 'you', \"you'd\", \"you'll\", \"you're\", \"you've\", 'your', 'yours', 'yourself', 'yourselves', 'z', 'zero']\n"
          ],
          "name": "stdout"
        }
      ]
    },
    {
      "cell_type": "code",
      "metadata": {
        "id": "T-CapFGpxvjs"
      },
      "source": [
        "# Applies preprocessing to text\n",
        "def preprocess(raw_text):\n",
        "    \n",
        "    #regular expression keeping only letters \n",
        "    letters_only_text = re.sub(\"[^a-zA-Z]\", \" \", raw_text)\n",
        "\n",
        "    # convert to lower case and split into words -> convert string into list ( 'hello world' -> ['hello', 'world'])\n",
        "    words = letters_only_text.lower().split()\n",
        "\n",
        "    cleaned_words = []\n",
        "    lemmatizer = PorterStemmer() #plug in here any other stemmer or lemmatiser you want to try out\n",
        "    \n",
        "    # remove stopwords\n",
        "    for word in words:\n",
        "        if word not in stop_words:\n",
        "            cleaned_words.append(word)\n",
        "    \n",
        "    # stemm or lemmatise words\n",
        "    stemmed_words = []\n",
        "    for word in cleaned_words:\n",
        "        word = lemmatizer.stem(word)   #dont forget to change stem to lemmatize if you are using a lemmatizer\n",
        "        stemmed_words.append(word)\n",
        "    \n",
        "    # converting list back to string\n",
        "    return \" \".join(stemmed_words)"
      ],
      "execution_count": null,
      "outputs": []
    },
    {
      "cell_type": "code",
      "metadata": {
        "colab": {
          "base_uri": "https://localhost:8080/",
          "height": 204
        },
        "id": "s7B-W-g0xwR6",
        "outputId": "a7daea31-6b6c-4b14-ed87-16d3ac26d833"
      },
      "source": [
        "# Applies preprocessing to title and saves it into a new column\n",
        "quality_by_title['Preprocess'] = quality_by_title['Title'].apply(preprocess)\n",
        "quality_by_title.head()"
      ],
      "execution_count": null,
      "outputs": [
        {
          "output_type": "execute_result",
          "data": {
            "text/html": [
              "<div>\n",
              "<style scoped>\n",
              "    .dataframe tbody tr th:only-of-type {\n",
              "        vertical-align: middle;\n",
              "    }\n",
              "\n",
              "    .dataframe tbody tr th {\n",
              "        vertical-align: top;\n",
              "    }\n",
              "\n",
              "    .dataframe thead th {\n",
              "        text-align: right;\n",
              "    }\n",
              "</style>\n",
              "<table border=\"1\" class=\"dataframe\">\n",
              "  <thead>\n",
              "    <tr style=\"text-align: right;\">\n",
              "      <th></th>\n",
              "      <th>Title</th>\n",
              "      <th>Y</th>\n",
              "      <th>Preprocess</th>\n",
              "    </tr>\n",
              "  </thead>\n",
              "  <tbody>\n",
              "    <tr>\n",
              "      <th>0</th>\n",
              "      <td>Java: Repeat Task Every Random Seconds</td>\n",
              "      <td>LQ_CLOSE</td>\n",
              "      <td>java repeat task random second</td>\n",
              "    </tr>\n",
              "    <tr>\n",
              "      <th>1</th>\n",
              "      <td>Why are Java Optionals immutable?</td>\n",
              "      <td>HQ</td>\n",
              "      <td>java option immut</td>\n",
              "    </tr>\n",
              "    <tr>\n",
              "      <th>2</th>\n",
              "      <td>Text Overlay Image with Darkened Opacity React...</td>\n",
              "      <td>HQ</td>\n",
              "      <td>text overlay imag darken opac react nativ</td>\n",
              "    </tr>\n",
              "    <tr>\n",
              "      <th>3</th>\n",
              "      <td>Why ternary operator in swift is so picky?</td>\n",
              "      <td>HQ</td>\n",
              "      <td>ternari oper swift picki</td>\n",
              "    </tr>\n",
              "    <tr>\n",
              "      <th>4</th>\n",
              "      <td>hide/show fab with scale animation</td>\n",
              "      <td>HQ</td>\n",
              "      <td>hide show fab scale anim</td>\n",
              "    </tr>\n",
              "  </tbody>\n",
              "</table>\n",
              "</div>"
            ],
            "text/plain": [
              "                                               Title         Y  \\\n",
              "0             Java: Repeat Task Every Random Seconds  LQ_CLOSE   \n",
              "1                  Why are Java Optionals immutable?        HQ   \n",
              "2  Text Overlay Image with Darkened Opacity React...        HQ   \n",
              "3         Why ternary operator in swift is so picky?        HQ   \n",
              "4                 hide/show fab with scale animation        HQ   \n",
              "\n",
              "                                  Preprocess  \n",
              "0             java repeat task random second  \n",
              "1                          java option immut  \n",
              "2  text overlay imag darken opac react nativ  \n",
              "3                   ternari oper swift picki  \n",
              "4                   hide show fab scale anim  "
            ]
          },
          "metadata": {
            "tags": []
          },
          "execution_count": 35
        }
      ]
    },
    {
      "cell_type": "code",
      "metadata": {
        "colab": {
          "base_uri": "https://localhost:8080/",
          "height": 204
        },
        "id": "GKFPmmJzxafe",
        "outputId": "78216bc2-7d31-4cf6-de92-1ecf88716185"
      },
      "source": [
        "# Finds length of preprocessed title\n",
        "title_length_df = pd.DataFrame()\n",
        "title_length_df['Length'] = quality_by_title['Preprocess'].apply(lambda x: len(x) - x.count(\" \"))\n",
        "title_length_df.head()"
      ],
      "execution_count": null,
      "outputs": [
        {
          "output_type": "execute_result",
          "data": {
            "text/html": [
              "<div>\n",
              "<style scoped>\n",
              "    .dataframe tbody tr th:only-of-type {\n",
              "        vertical-align: middle;\n",
              "    }\n",
              "\n",
              "    .dataframe tbody tr th {\n",
              "        vertical-align: top;\n",
              "    }\n",
              "\n",
              "    .dataframe thead th {\n",
              "        text-align: right;\n",
              "    }\n",
              "</style>\n",
              "<table border=\"1\" class=\"dataframe\">\n",
              "  <thead>\n",
              "    <tr style=\"text-align: right;\">\n",
              "      <th></th>\n",
              "      <th>Length</th>\n",
              "    </tr>\n",
              "  </thead>\n",
              "  <tbody>\n",
              "    <tr>\n",
              "      <th>0</th>\n",
              "      <td>26</td>\n",
              "    </tr>\n",
              "    <tr>\n",
              "      <th>1</th>\n",
              "      <td>15</td>\n",
              "    </tr>\n",
              "    <tr>\n",
              "      <th>2</th>\n",
              "      <td>35</td>\n",
              "    </tr>\n",
              "    <tr>\n",
              "      <th>3</th>\n",
              "      <td>21</td>\n",
              "    </tr>\n",
              "    <tr>\n",
              "      <th>4</th>\n",
              "      <td>20</td>\n",
              "    </tr>\n",
              "  </tbody>\n",
              "</table>\n",
              "</div>"
            ],
            "text/plain": [
              "   Length\n",
              "0      26\n",
              "1      15\n",
              "2      35\n",
              "3      21\n",
              "4      20"
            ]
          },
          "metadata": {
            "tags": []
          },
          "execution_count": 36
        }
      ]
    },
    {
      "cell_type": "markdown",
      "metadata": {
        "id": "e8zg9r6w3ULm"
      },
      "source": [
        "## Title and Body Text Data\n"
      ]
    },
    {
      "cell_type": "code",
      "metadata": {
        "colab": {
          "base_uri": "https://localhost:8080/",
          "height": 204
        },
        "id": "pXpeZn283k_l",
        "outputId": "40687b7a-4812-48c3-aa36-8dcf050f93ac"
      },
      "source": [
        "# Separates body from dataframe\n",
        "body_text= data[['Body']]\n",
        "body_text.head()"
      ],
      "execution_count": null,
      "outputs": [
        {
          "output_type": "execute_result",
          "data": {
            "text/html": [
              "<div>\n",
              "<style scoped>\n",
              "    .dataframe tbody tr th:only-of-type {\n",
              "        vertical-align: middle;\n",
              "    }\n",
              "\n",
              "    .dataframe tbody tr th {\n",
              "        vertical-align: top;\n",
              "    }\n",
              "\n",
              "    .dataframe thead th {\n",
              "        text-align: right;\n",
              "    }\n",
              "</style>\n",
              "<table border=\"1\" class=\"dataframe\">\n",
              "  <thead>\n",
              "    <tr style=\"text-align: right;\">\n",
              "      <th></th>\n",
              "      <th>Body</th>\n",
              "    </tr>\n",
              "  </thead>\n",
              "  <tbody>\n",
              "    <tr>\n",
              "      <th>0</th>\n",
              "      <td>&lt;p&gt;I'm already familiar with repeating tasks e...</td>\n",
              "    </tr>\n",
              "    <tr>\n",
              "      <th>1</th>\n",
              "      <td>&lt;p&gt;I'd like to understand why Java 8 Optionals...</td>\n",
              "    </tr>\n",
              "    <tr>\n",
              "      <th>2</th>\n",
              "      <td>&lt;p&gt;I am attempting to overlay a title over an ...</td>\n",
              "    </tr>\n",
              "    <tr>\n",
              "      <th>3</th>\n",
              "      <td>&lt;p&gt;The question is very simple, but I just cou...</td>\n",
              "    </tr>\n",
              "    <tr>\n",
              "      <th>4</th>\n",
              "      <td>&lt;p&gt;I'm using custom floatingactionmenu. I need...</td>\n",
              "    </tr>\n",
              "  </tbody>\n",
              "</table>\n",
              "</div>"
            ],
            "text/plain": [
              "                                                Body\n",
              "0  <p>I'm already familiar with repeating tasks e...\n",
              "1  <p>I'd like to understand why Java 8 Optionals...\n",
              "2  <p>I am attempting to overlay a title over an ...\n",
              "3  <p>The question is very simple, but I just cou...\n",
              "4  <p>I'm using custom floatingactionmenu. I need..."
            ]
          },
          "metadata": {
            "tags": []
          },
          "execution_count": 37
        }
      ]
    },
    {
      "cell_type": "code",
      "metadata": {
        "colab": {
          "base_uri": "https://localhost:8080/",
          "height": 204
        },
        "id": "BNLd7QSq4W3h",
        "outputId": "4d475751-063e-46a9-fa6c-066c6042b051"
      },
      "source": [
        "# Applies preprocessing to body\n",
        "body_text['preproc'] = body_text['Body'].apply(preprocess)\n",
        "body_text.head()"
      ],
      "execution_count": null,
      "outputs": [
        {
          "output_type": "execute_result",
          "data": {
            "text/html": [
              "<div>\n",
              "<style scoped>\n",
              "    .dataframe tbody tr th:only-of-type {\n",
              "        vertical-align: middle;\n",
              "    }\n",
              "\n",
              "    .dataframe tbody tr th {\n",
              "        vertical-align: top;\n",
              "    }\n",
              "\n",
              "    .dataframe thead th {\n",
              "        text-align: right;\n",
              "    }\n",
              "</style>\n",
              "<table border=\"1\" class=\"dataframe\">\n",
              "  <thead>\n",
              "    <tr style=\"text-align: right;\">\n",
              "      <th></th>\n",
              "      <th>Body</th>\n",
              "      <th>preproc</th>\n",
              "    </tr>\n",
              "  </thead>\n",
              "  <tbody>\n",
              "    <tr>\n",
              "      <th>0</th>\n",
              "      <td>&lt;p&gt;I'm already familiar with repeating tasks e...</td>\n",
              "      <td>familiar repeat task second java util timer ja...</td>\n",
              "    </tr>\n",
              "    <tr>\n",
              "      <th>1</th>\n",
              "      <td>&lt;p&gt;I'd like to understand why Java 8 Optionals...</td>\n",
              "      <td>understand java option design immut thread safeti</td>\n",
              "    </tr>\n",
              "    <tr>\n",
              "      <th>2</th>\n",
              "      <td>&lt;p&gt;I am attempting to overlay a title over an ...</td>\n",
              "      <td>attempt overlay titl imag imag darken lower op...</td>\n",
              "    </tr>\n",
              "    <tr>\n",
              "      <th>3</th>\n",
              "      <td>&lt;p&gt;The question is very simple, but I just cou...</td>\n",
              "      <td>question simpl find answer doesn pre code retu...</td>\n",
              "    </tr>\n",
              "    <tr>\n",
              "      <th>4</th>\n",
              "      <td>&lt;p&gt;I'm using custom floatingactionmenu. I need...</td>\n",
              "      <td>custom floatingactionmenu implement scale anim...</td>\n",
              "    </tr>\n",
              "  </tbody>\n",
              "</table>\n",
              "</div>"
            ],
            "text/plain": [
              "                                                Body  \\\n",
              "0  <p>I'm already familiar with repeating tasks e...   \n",
              "1  <p>I'd like to understand why Java 8 Optionals...   \n",
              "2  <p>I am attempting to overlay a title over an ...   \n",
              "3  <p>The question is very simple, but I just cou...   \n",
              "4  <p>I'm using custom floatingactionmenu. I need...   \n",
              "\n",
              "                                             preproc  \n",
              "0  familiar repeat task second java util timer ja...  \n",
              "1  understand java option design immut thread safeti  \n",
              "2  attempt overlay titl imag imag darken lower op...  \n",
              "3  question simpl find answer doesn pre code retu...  \n",
              "4  custom floatingactionmenu implement scale anim...  "
            ]
          },
          "metadata": {
            "tags": []
          },
          "execution_count": 38
        }
      ]
    },
    {
      "cell_type": "code",
      "metadata": {
        "colab": {
          "base_uri": "https://localhost:8080/",
          "height": 204
        },
        "id": "r7tBpruL4e1_",
        "outputId": "cf4b260c-aa98-4588-dde6-c6a3def412e9"
      },
      "source": [
        "# Combines title and body into one text column\n",
        "text_data = data[['Title','Body','Y']]\n",
        "text_data['text'] = quality_by_title['Preprocess'] + ' ' + body_text['preproc']\n",
        "text_data['Y'] = text_data['Y'].map({'LQ_CLOSE':0, 'HQ':1})\n",
        "text_data = text_data.drop(['Title','Body'], axis = 1)\n",
        "text_data.head()"
      ],
      "execution_count": null,
      "outputs": [
        {
          "output_type": "execute_result",
          "data": {
            "text/html": [
              "<div>\n",
              "<style scoped>\n",
              "    .dataframe tbody tr th:only-of-type {\n",
              "        vertical-align: middle;\n",
              "    }\n",
              "\n",
              "    .dataframe tbody tr th {\n",
              "        vertical-align: top;\n",
              "    }\n",
              "\n",
              "    .dataframe thead th {\n",
              "        text-align: right;\n",
              "    }\n",
              "</style>\n",
              "<table border=\"1\" class=\"dataframe\">\n",
              "  <thead>\n",
              "    <tr style=\"text-align: right;\">\n",
              "      <th></th>\n",
              "      <th>Y</th>\n",
              "      <th>text</th>\n",
              "    </tr>\n",
              "  </thead>\n",
              "  <tbody>\n",
              "    <tr>\n",
              "      <th>0</th>\n",
              "      <td>0</td>\n",
              "      <td>java repeat task random second familiar repeat...</td>\n",
              "    </tr>\n",
              "    <tr>\n",
              "      <th>1</th>\n",
              "      <td>1</td>\n",
              "      <td>java option immut understand java option desig...</td>\n",
              "    </tr>\n",
              "    <tr>\n",
              "      <th>2</th>\n",
              "      <td>1</td>\n",
              "      <td>text overlay imag darken opac react nativ atte...</td>\n",
              "    </tr>\n",
              "    <tr>\n",
              "      <th>3</th>\n",
              "      <td>1</td>\n",
              "      <td>ternari oper swift picki question simpl find a...</td>\n",
              "    </tr>\n",
              "    <tr>\n",
              "      <th>4</th>\n",
              "      <td>1</td>\n",
              "      <td>hide show fab scale anim custom floatingaction...</td>\n",
              "    </tr>\n",
              "  </tbody>\n",
              "</table>\n",
              "</div>"
            ],
            "text/plain": [
              "   Y                                               text\n",
              "0  0  java repeat task random second familiar repeat...\n",
              "1  1  java option immut understand java option desig...\n",
              "2  1  text overlay imag darken opac react nativ atte...\n",
              "3  1  ternari oper swift picki question simpl find a...\n",
              "4  1  hide show fab scale anim custom floatingaction..."
            ]
          },
          "metadata": {
            "tags": []
          },
          "execution_count": 39
        }
      ]
    },
    {
      "cell_type": "markdown",
      "metadata": {
        "id": "VYI4GIHcuT7j"
      },
      "source": [
        "## Combined Data"
      ]
    },
    {
      "cell_type": "code",
      "metadata": {
        "colab": {
          "base_uri": "https://localhost:8080/",
          "height": 525
        },
        "id": "aA9gak6vw9rl",
        "outputId": "03101b0a-476b-4ce9-9f8b-3dfaadf2603a"
      },
      "source": [
        "# Combines all the features into one dataframe\n",
        "X = pd.concat([text_data['text'],one_hot_tag_df, format_df, num_tags_df, hour_df, title_length_df], axis=1)\n",
        "X.head()"
      ],
      "execution_count": null,
      "outputs": [
        {
          "output_type": "execute_result",
          "data": {
            "text/html": [
              "<div>\n",
              "<style scoped>\n",
              "    .dataframe tbody tr th:only-of-type {\n",
              "        vertical-align: middle;\n",
              "    }\n",
              "\n",
              "    .dataframe tbody tr th {\n",
              "        vertical-align: top;\n",
              "    }\n",
              "\n",
              "    .dataframe thead th {\n",
              "        text-align: right;\n",
              "    }\n",
              "</style>\n",
              "<table border=\"1\" class=\"dataframe\">\n",
              "  <thead>\n",
              "    <tr style=\"text-align: right;\">\n",
              "      <th></th>\n",
              "      <th>text</th>\n",
              "      <th>0</th>\n",
              "      <th>1</th>\n",
              "      <th>2</th>\n",
              "      <th>3</th>\n",
              "      <th>4</th>\n",
              "      <th>5</th>\n",
              "      <th>6</th>\n",
              "      <th>7</th>\n",
              "      <th>8</th>\n",
              "      <th>...</th>\n",
              "      <th>998</th>\n",
              "      <th>999</th>\n",
              "      <th>Code</th>\n",
              "      <th>Img</th>\n",
              "      <th>Url</th>\n",
              "      <th>List</th>\n",
              "      <th>Paragraphs</th>\n",
              "      <th>Num_Tags</th>\n",
              "      <th>Hour</th>\n",
              "      <th>Length</th>\n",
              "    </tr>\n",
              "  </thead>\n",
              "  <tbody>\n",
              "    <tr>\n",
              "      <th>0</th>\n",
              "      <td>java repeat task random second familiar repeat...</td>\n",
              "      <td>0.0</td>\n",
              "      <td>0.0</td>\n",
              "      <td>0.0</td>\n",
              "      <td>0.0</td>\n",
              "      <td>0.0</td>\n",
              "      <td>0.0</td>\n",
              "      <td>0.0</td>\n",
              "      <td>0.0</td>\n",
              "      <td>0.0</td>\n",
              "      <td>...</td>\n",
              "      <td>0.0</td>\n",
              "      <td>0.0</td>\n",
              "      <td>0</td>\n",
              "      <td>0</td>\n",
              "      <td>0</td>\n",
              "      <td>0</td>\n",
              "      <td>1</td>\n",
              "      <td>2</td>\n",
              "      <td>00</td>\n",
              "      <td>26</td>\n",
              "    </tr>\n",
              "    <tr>\n",
              "      <th>1</th>\n",
              "      <td>java option immut understand java option desig...</td>\n",
              "      <td>0.0</td>\n",
              "      <td>0.0</td>\n",
              "      <td>0.0</td>\n",
              "      <td>0.0</td>\n",
              "      <td>0.0</td>\n",
              "      <td>0.0</td>\n",
              "      <td>0.0</td>\n",
              "      <td>0.0</td>\n",
              "      <td>0.0</td>\n",
              "      <td>...</td>\n",
              "      <td>0.0</td>\n",
              "      <td>0.0</td>\n",
              "      <td>0</td>\n",
              "      <td>0</td>\n",
              "      <td>0</td>\n",
              "      <td>0</td>\n",
              "      <td>1</td>\n",
              "      <td>2</td>\n",
              "      <td>02</td>\n",
              "      <td>15</td>\n",
              "    </tr>\n",
              "    <tr>\n",
              "      <th>2</th>\n",
              "      <td>text overlay imag darken opac react nativ atte...</td>\n",
              "      <td>0.0</td>\n",
              "      <td>0.0</td>\n",
              "      <td>0.0</td>\n",
              "      <td>0.0</td>\n",
              "      <td>0.0</td>\n",
              "      <td>0.0</td>\n",
              "      <td>0.0</td>\n",
              "      <td>0.0</td>\n",
              "      <td>0.0</td>\n",
              "      <td>...</td>\n",
              "      <td>0.0</td>\n",
              "      <td>0.0</td>\n",
              "      <td>1</td>\n",
              "      <td>1</td>\n",
              "      <td>1</td>\n",
              "      <td>0</td>\n",
              "      <td>3</td>\n",
              "      <td>5</td>\n",
              "      <td>02</td>\n",
              "      <td>35</td>\n",
              "    </tr>\n",
              "    <tr>\n",
              "      <th>3</th>\n",
              "      <td>ternari oper swift picki question simpl find a...</td>\n",
              "      <td>0.0</td>\n",
              "      <td>0.0</td>\n",
              "      <td>0.0</td>\n",
              "      <td>0.0</td>\n",
              "      <td>0.0</td>\n",
              "      <td>0.0</td>\n",
              "      <td>0.0</td>\n",
              "      <td>0.0</td>\n",
              "      <td>0.0</td>\n",
              "      <td>...</td>\n",
              "      <td>0.0</td>\n",
              "      <td>0.0</td>\n",
              "      <td>1</td>\n",
              "      <td>0</td>\n",
              "      <td>0</td>\n",
              "      <td>0</td>\n",
              "      <td>8</td>\n",
              "      <td>5</td>\n",
              "      <td>03</td>\n",
              "      <td>21</td>\n",
              "    </tr>\n",
              "    <tr>\n",
              "      <th>4</th>\n",
              "      <td>hide show fab scale anim custom floatingaction...</td>\n",
              "      <td>0.0</td>\n",
              "      <td>0.0</td>\n",
              "      <td>0.0</td>\n",
              "      <td>0.0</td>\n",
              "      <td>0.0</td>\n",
              "      <td>0.0</td>\n",
              "      <td>0.0</td>\n",
              "      <td>0.0</td>\n",
              "      <td>0.0</td>\n",
              "      <td>...</td>\n",
              "      <td>0.0</td>\n",
              "      <td>0.0</td>\n",
              "      <td>0</td>\n",
              "      <td>0</td>\n",
              "      <td>1</td>\n",
              "      <td>0</td>\n",
              "      <td>2</td>\n",
              "      <td>3</td>\n",
              "      <td>05</td>\n",
              "      <td>20</td>\n",
              "    </tr>\n",
              "  </tbody>\n",
              "</table>\n",
              "<p>5 rows × 1009 columns</p>\n",
              "</div>"
            ],
            "text/plain": [
              "                                                text    0    1    2    3    4  \\\n",
              "0  java repeat task random second familiar repeat...  0.0  0.0  0.0  0.0  0.0   \n",
              "1  java option immut understand java option desig...  0.0  0.0  0.0  0.0  0.0   \n",
              "2  text overlay imag darken opac react nativ atte...  0.0  0.0  0.0  0.0  0.0   \n",
              "3  ternari oper swift picki question simpl find a...  0.0  0.0  0.0  0.0  0.0   \n",
              "4  hide show fab scale anim custom floatingaction...  0.0  0.0  0.0  0.0  0.0   \n",
              "\n",
              "     5    6    7    8  ...  998  999  Code  Img  Url  List  Paragraphs  \\\n",
              "0  0.0  0.0  0.0  0.0  ...  0.0  0.0     0    0    0     0           1   \n",
              "1  0.0  0.0  0.0  0.0  ...  0.0  0.0     0    0    0     0           1   \n",
              "2  0.0  0.0  0.0  0.0  ...  0.0  0.0     1    1    1     0           3   \n",
              "3  0.0  0.0  0.0  0.0  ...  0.0  0.0     1    0    0     0           8   \n",
              "4  0.0  0.0  0.0  0.0  ...  0.0  0.0     0    0    1     0           2   \n",
              "\n",
              "   Num_Tags  Hour  Length  \n",
              "0         2    00      26  \n",
              "1         2    02      15  \n",
              "2         5    02      35  \n",
              "3         5    03      21  \n",
              "4         3    05      20  \n",
              "\n",
              "[5 rows x 1009 columns]"
            ]
          },
          "metadata": {
            "tags": []
          },
          "execution_count": 40
        }
      ]
    },
    {
      "cell_type": "code",
      "metadata": {
        "id": "CZpvmFvZWG8S"
      },
      "source": [
        "# Saves quality to y\n",
        "y = data.reset_index()['Y'].map({'LQ_CLOSE':0,'HQ':1})"
      ],
      "execution_count": null,
      "outputs": []
    },
    {
      "cell_type": "markdown",
      "metadata": {
        "id": "iP1vAOEM0ut8"
      },
      "source": [
        "## Split and Standardize the Data"
      ]
    },
    {
      "cell_type": "code",
      "metadata": {
        "id": "vve2Hmx6ToCA"
      },
      "source": [
        "# Split X and y into train/test data\n",
        "np_X = X.values\n",
        "np_y = y.values\n",
        "X_train, X_test, y_train, y_test = train_test_split(np_X, np_y, test_size=0.30, random_state=42)"
      ],
      "execution_count": null,
      "outputs": []
    },
    {
      "cell_type": "code",
      "metadata": {
        "id": "ho1TNDNM6wPk"
      },
      "source": [
        "# Separates text data after split\n",
        "X_train_text, X_test_text = X_train[:,0], X_test[:,0]"
      ],
      "execution_count": null,
      "outputs": []
    },
    {
      "cell_type": "code",
      "metadata": {
        "colab": {
          "base_uri": "https://localhost:8080/",
          "height": 69
        },
        "id": "x4LoBmo17rhf",
        "outputId": "7388301c-417f-43d2-968d-473742051535"
      },
      "source": [
        "X_train_text[0]"
      ],
      "execution_count": null,
      "outputs": [
        {
          "output_type": "execute_result",
          "data": {
            "text/plain": [
              "'class method selector static swift method object object code add extra function unfamiliar object possibl swift optim swift file class pre code import foundat import uikit objc class imagebars nsobject static func changecontadorimages img uiimag newsiz cgsize gt uiimag uigraphicsbeginimagecontextwithopt newsiz true cgfloat cgfloat img draw cgrect width newsiz width height newsiz height newimag uiimag uigraphicsgetimagefromcurrentimagecontext uigraphicsendimagecontext return newimag code pre code object file pre code imgbarcount uiimag imagenam bar counter pd png imag imagebars changecontadorimages imgbarcount newsiz cgsizemak code pre error class method selector changecontadorimages newsiz bridg process pre code import lt wh live swift gt code pre begin file work fine ve look similar error thread avail'"
            ]
          },
          "metadata": {
            "tags": []
          },
          "execution_count": 44
        }
      ]
    },
    {
      "cell_type": "code",
      "metadata": {
        "colab": {
          "base_uri": "https://localhost:8080/",
          "height": 52
        },
        "id": "EzZLVLrB7yzU",
        "outputId": "eae3d437-a010-4155-a2d7-7171767fe6b9"
      },
      "source": [
        "X_test_text[0]"
      ],
      "execution_count": null,
      "outputs": [
        {
          "output_type": "execute_result",
          "data": {
            "text/plain": [
              "'view layout work android fragment creat view android fragment good amount research unsur strong em fragment em strong appear possibl layout incorrect android href http stack imgur dh pk png rel nofollow noreferr img src http stack imgur dh pk png alt attempt fragment layout'"
            ]
          },
          "metadata": {
            "tags": []
          },
          "execution_count": 45
        }
      ]
    },
    {
      "cell_type": "code",
      "metadata": {
        "id": "cIxkMndNV378"
      },
      "source": [
        "# Separates numerical data after split and applies preprocessing to the non\n",
        "# binary data\n",
        "scaler = preprocessing.StandardScaler().fit(X_train[:,-4:])\n",
        "X_train_scaled = np.concatenate(( X_train[:,1:-4], scaler.transform(X_train[:,-4:])), axis=1)\n",
        "X_test_scaled = np.concatenate(( X_test[:,1:-4], scaler.transform(X_test[:,-4:])), axis=1)"
      ],
      "execution_count": null,
      "outputs": []
    },
    {
      "cell_type": "code",
      "metadata": {
        "colab": {
          "base_uri": "https://localhost:8080/"
        },
        "id": "gQDOMwdRWtgC",
        "outputId": "83f3115f-9986-4d1f-f240-cddbfb6f7a3c"
      },
      "source": [
        "X_train_scaled[0]"
      ],
      "execution_count": null,
      "outputs": [
        {
          "output_type": "execute_result",
          "data": {
            "text/plain": [
              "array([0.0, 0.0, 0.0, ..., 1.055248441405339, 1.3744972333935002,\n",
              "       1.206750776448847], dtype=object)"
            ]
          },
          "metadata": {
            "tags": []
          },
          "execution_count": 47
        }
      ]
    },
    {
      "cell_type": "markdown",
      "metadata": {
        "id": "etUJlcE-03sb"
      },
      "source": [
        "# Machine Learning"
      ]
    },
    {
      "cell_type": "markdown",
      "metadata": {
        "id": "1KVKpPZNOY-w"
      },
      "source": [
        "Here we create two machine learning models and combine them for a final prediction. We separate the text and numerical data into two models due to the complexity of combining the data into one. Also we wanted to apply a MLP model onto as much of the data as we could but the text data was too large to feasibly do so, so we apply a MLP model to only the numerical data and a Logistic Regression model to the text.\n",
        "\n",
        "After, we mutiply each algorithms predicted proabilites by their accuracies to give them their weights. Then combine them and normalize them by their weights to get a final prediction probability. Which ends up being more accurate than the separated data showing that both models add value to the predictions."
      ]
    },
    {
      "cell_type": "markdown",
      "metadata": {
        "id": "hxaCc_Ns8QOA"
      },
      "source": [
        "## NN on Formatting and Tags"
      ]
    },
    {
      "cell_type": "code",
      "metadata": {
        "id": "gs6Utr1MCjRd"
      },
      "source": [
        "# Creating MLP Classifier Model\n",
        "mlp = MLPClassifier()"
      ],
      "execution_count": null,
      "outputs": []
    },
    {
      "cell_type": "code",
      "metadata": {
        "id": "l_aeZj5538ys"
      },
      "source": [
        "# Setting up possible parameter space for applying a grid search on the MLP Model\n",
        "parameter_space = {\n",
        "    'random_state': [1],\n",
        "    'activation': ['relu'],\n",
        "    'learning_rate': ['constant'],\n",
        "    'solver': ['adam'],\n",
        "    'early_stopping': [True],\n",
        "    'validation_fraction': [.2],\n",
        "    'hidden_layer_sizes': [(300,),(128,128), (256,256), (256,128,64)],\n",
        "    'alpha': [.05, .001],\n",
        "    'batch_size': [64, 128, 256]\n",
        "\n",
        "}"
      ],
      "execution_count": null,
      "outputs": []
    },
    {
      "cell_type": "code",
      "metadata": {
        "colab": {
          "base_uri": "https://localhost:8080/"
        },
        "id": "6HYMdLHNRb50",
        "outputId": "36d2c3b0-805f-4358-d97d-48aedec07daf"
      },
      "source": [
        "X_train_scaled.shape"
      ],
      "execution_count": null,
      "outputs": [
        {
          "output_type": "execute_result",
          "data": {
            "text/plain": [
              "(27999, 1008)"
            ]
          },
          "metadata": {
            "tags": []
          },
          "execution_count": 50
        }
      ]
    },
    {
      "cell_type": "code",
      "metadata": {
        "colab": {
          "base_uri": "https://localhost:8080/"
        },
        "id": "eO02Jp-Q58b8",
        "outputId": "daedbb72-5fd5-4f7b-f99f-fab385744a2f"
      },
      "source": [
        "# Applying Grid Search Cross Validation on the parameter space\n",
        "GCV = GridSearchCV(mlp, parameter_space, n_jobs=-1, verbose=3)\n",
        "GCV.fit(X_train_scaled[:5000], y_train[:5000])"
      ],
      "execution_count": null,
      "outputs": [
        {
          "output_type": "stream",
          "text": [
            "Fitting 5 folds for each of 24 candidates, totalling 120 fits\n"
          ],
          "name": "stdout"
        },
        {
          "output_type": "stream",
          "text": [
            "[Parallel(n_jobs=-1)]: Using backend LokyBackend with 12 concurrent workers.\n",
            "[Parallel(n_jobs=-1)]: Done   8 tasks      | elapsed:   45.6s\n",
            "[Parallel(n_jobs=-1)]: Done 120 out of 120 | elapsed:  6.4min finished\n"
          ],
          "name": "stderr"
        },
        {
          "output_type": "execute_result",
          "data": {
            "text/plain": [
              "GridSearchCV(estimator=MLPClassifier(), n_jobs=-1,\n",
              "             param_grid={'activation': ['relu'], 'alpha': [0.05, 0.001],\n",
              "                         'batch_size': [64, 128, 256], 'early_stopping': [True],\n",
              "                         'hidden_layer_sizes': [(300,), (128, 128), (256, 256),\n",
              "                                                (256, 128, 64)],\n",
              "                         'learning_rate': ['constant'], 'random_state': [1],\n",
              "                         'solver': ['adam'], 'validation_fraction': [0.2]},\n",
              "             verbose=3)"
            ]
          },
          "metadata": {
            "tags": []
          },
          "execution_count": 51
        }
      ]
    },
    {
      "cell_type": "code",
      "metadata": {
        "colab": {
          "base_uri": "https://localhost:8080/"
        },
        "id": "Hj2VLXccWt6H",
        "outputId": "5abb4386-4f1b-44cb-d6b7-00342d5f0272"
      },
      "source": [
        "# Prints the parameters with the best results\n",
        "print('Best parameters found:\\n', GCV.best_params_)\n",
        "\n",
        "# All results\n",
        "means = GCV.cv_results_['mean_test_score']\n",
        "stds = GCV.cv_results_['std_test_score']\n",
        "for mean, std, params in zip(means, stds, GCV.cv_results_['params']):\n",
        "    print(\"%0.3f (+/-%0.03f) for %r\" % (mean, std * 2, params))"
      ],
      "execution_count": null,
      "outputs": [
        {
          "output_type": "stream",
          "text": [
            "Best parameters found:\n",
            " {'activation': 'relu', 'alpha': 0.05, 'batch_size': 128, 'early_stopping': True, 'hidden_layer_sizes': (128, 128), 'learning_rate': 'constant', 'random_state': 1, 'solver': 'adam', 'validation_fraction': 0.2}\n",
            "0.840 (+/-0.015) for {'activation': 'relu', 'alpha': 0.05, 'batch_size': 64, 'early_stopping': True, 'hidden_layer_sizes': (300,), 'learning_rate': 'constant', 'random_state': 1, 'solver': 'adam', 'validation_fraction': 0.2}\n",
            "0.840 (+/-0.007) for {'activation': 'relu', 'alpha': 0.05, 'batch_size': 64, 'early_stopping': True, 'hidden_layer_sizes': (128, 128), 'learning_rate': 'constant', 'random_state': 1, 'solver': 'adam', 'validation_fraction': 0.2}\n",
            "0.840 (+/-0.014) for {'activation': 'relu', 'alpha': 0.05, 'batch_size': 64, 'early_stopping': True, 'hidden_layer_sizes': (256, 256), 'learning_rate': 'constant', 'random_state': 1, 'solver': 'adam', 'validation_fraction': 0.2}\n",
            "0.836 (+/-0.030) for {'activation': 'relu', 'alpha': 0.05, 'batch_size': 64, 'early_stopping': True, 'hidden_layer_sizes': (256, 128, 64), 'learning_rate': 'constant', 'random_state': 1, 'solver': 'adam', 'validation_fraction': 0.2}\n",
            "0.841 (+/-0.015) for {'activation': 'relu', 'alpha': 0.05, 'batch_size': 128, 'early_stopping': True, 'hidden_layer_sizes': (300,), 'learning_rate': 'constant', 'random_state': 1, 'solver': 'adam', 'validation_fraction': 0.2}\n",
            "0.845 (+/-0.012) for {'activation': 'relu', 'alpha': 0.05, 'batch_size': 128, 'early_stopping': True, 'hidden_layer_sizes': (128, 128), 'learning_rate': 'constant', 'random_state': 1, 'solver': 'adam', 'validation_fraction': 0.2}\n",
            "0.840 (+/-0.014) for {'activation': 'relu', 'alpha': 0.05, 'batch_size': 128, 'early_stopping': True, 'hidden_layer_sizes': (256, 256), 'learning_rate': 'constant', 'random_state': 1, 'solver': 'adam', 'validation_fraction': 0.2}\n",
            "0.837 (+/-0.021) for {'activation': 'relu', 'alpha': 0.05, 'batch_size': 128, 'early_stopping': True, 'hidden_layer_sizes': (256, 128, 64), 'learning_rate': 'constant', 'random_state': 1, 'solver': 'adam', 'validation_fraction': 0.2}\n",
            "0.845 (+/-0.013) for {'activation': 'relu', 'alpha': 0.05, 'batch_size': 256, 'early_stopping': True, 'hidden_layer_sizes': (300,), 'learning_rate': 'constant', 'random_state': 1, 'solver': 'adam', 'validation_fraction': 0.2}\n",
            "0.842 (+/-0.017) for {'activation': 'relu', 'alpha': 0.05, 'batch_size': 256, 'early_stopping': True, 'hidden_layer_sizes': (128, 128), 'learning_rate': 'constant', 'random_state': 1, 'solver': 'adam', 'validation_fraction': 0.2}\n",
            "0.838 (+/-0.015) for {'activation': 'relu', 'alpha': 0.05, 'batch_size': 256, 'early_stopping': True, 'hidden_layer_sizes': (256, 256), 'learning_rate': 'constant', 'random_state': 1, 'solver': 'adam', 'validation_fraction': 0.2}\n",
            "0.839 (+/-0.015) for {'activation': 'relu', 'alpha': 0.05, 'batch_size': 256, 'early_stopping': True, 'hidden_layer_sizes': (256, 128, 64), 'learning_rate': 'constant', 'random_state': 1, 'solver': 'adam', 'validation_fraction': 0.2}\n",
            "0.840 (+/-0.017) for {'activation': 'relu', 'alpha': 0.001, 'batch_size': 64, 'early_stopping': True, 'hidden_layer_sizes': (300,), 'learning_rate': 'constant', 'random_state': 1, 'solver': 'adam', 'validation_fraction': 0.2}\n",
            "0.837 (+/-0.007) for {'activation': 'relu', 'alpha': 0.001, 'batch_size': 64, 'early_stopping': True, 'hidden_layer_sizes': (128, 128), 'learning_rate': 'constant', 'random_state': 1, 'solver': 'adam', 'validation_fraction': 0.2}\n",
            "0.837 (+/-0.011) for {'activation': 'relu', 'alpha': 0.001, 'batch_size': 64, 'early_stopping': True, 'hidden_layer_sizes': (256, 256), 'learning_rate': 'constant', 'random_state': 1, 'solver': 'adam', 'validation_fraction': 0.2}\n",
            "0.842 (+/-0.023) for {'activation': 'relu', 'alpha': 0.001, 'batch_size': 64, 'early_stopping': True, 'hidden_layer_sizes': (256, 128, 64), 'learning_rate': 'constant', 'random_state': 1, 'solver': 'adam', 'validation_fraction': 0.2}\n",
            "0.843 (+/-0.017) for {'activation': 'relu', 'alpha': 0.001, 'batch_size': 128, 'early_stopping': True, 'hidden_layer_sizes': (300,), 'learning_rate': 'constant', 'random_state': 1, 'solver': 'adam', 'validation_fraction': 0.2}\n",
            "0.845 (+/-0.017) for {'activation': 'relu', 'alpha': 0.001, 'batch_size': 128, 'early_stopping': True, 'hidden_layer_sizes': (128, 128), 'learning_rate': 'constant', 'random_state': 1, 'solver': 'adam', 'validation_fraction': 0.2}\n",
            "0.839 (+/-0.012) for {'activation': 'relu', 'alpha': 0.001, 'batch_size': 128, 'early_stopping': True, 'hidden_layer_sizes': (256, 256), 'learning_rate': 'constant', 'random_state': 1, 'solver': 'adam', 'validation_fraction': 0.2}\n",
            "0.837 (+/-0.017) for {'activation': 'relu', 'alpha': 0.001, 'batch_size': 128, 'early_stopping': True, 'hidden_layer_sizes': (256, 128, 64), 'learning_rate': 'constant', 'random_state': 1, 'solver': 'adam', 'validation_fraction': 0.2}\n",
            "0.841 (+/-0.013) for {'activation': 'relu', 'alpha': 0.001, 'batch_size': 256, 'early_stopping': True, 'hidden_layer_sizes': (300,), 'learning_rate': 'constant', 'random_state': 1, 'solver': 'adam', 'validation_fraction': 0.2}\n",
            "0.842 (+/-0.018) for {'activation': 'relu', 'alpha': 0.001, 'batch_size': 256, 'early_stopping': True, 'hidden_layer_sizes': (128, 128), 'learning_rate': 'constant', 'random_state': 1, 'solver': 'adam', 'validation_fraction': 0.2}\n",
            "0.833 (+/-0.014) for {'activation': 'relu', 'alpha': 0.001, 'batch_size': 256, 'early_stopping': True, 'hidden_layer_sizes': (256, 256), 'learning_rate': 'constant', 'random_state': 1, 'solver': 'adam', 'validation_fraction': 0.2}\n",
            "0.838 (+/-0.011) for {'activation': 'relu', 'alpha': 0.001, 'batch_size': 256, 'early_stopping': True, 'hidden_layer_sizes': (256, 128, 64), 'learning_rate': 'constant', 'random_state': 1, 'solver': 'adam', 'validation_fraction': 0.2}\n"
          ],
          "name": "stdout"
        }
      ]
    },
    {
      "cell_type": "code",
      "metadata": {
        "id": "GMb6Qo1wzlxf"
      },
      "source": [
        "# After multiple trials, we have concluded that these are the optimal parameters\n",
        "# Sets up MLP model with optimal parameters\n",
        "mlp = MLPClassifier(random_state=1, activation='relu', alpha= 0.05, hidden_layer_sizes=(300,), learning_rate='constant', solver='adam', early_stopping=True, validation_fraction=0.2,).fit(X_train_scaled, y_train)"
      ],
      "execution_count": null,
      "outputs": []
    },
    {
      "cell_type": "code",
      "metadata": {
        "colab": {
          "base_uri": "https://localhost:8080/",
          "height": 302
        },
        "id": "mEnSfdmrUwCL",
        "outputId": "828604fc-821f-4203-efbc-d20bab063955"
      },
      "source": [
        "# Plots training score and loss curve\n",
        "print (mlp.score(X_train_scaled,y_train))\n",
        "plt.plot(mlp.loss_curve_)"
      ],
      "execution_count": null,
      "outputs": [
        {
          "output_type": "stream",
          "text": [
            "0.8883174399085682\n"
          ],
          "name": "stdout"
        },
        {
          "output_type": "execute_result",
          "data": {
            "text/plain": [
              "[<matplotlib.lines.Line2D at 0x7f0a9ffdf8e0>]"
            ]
          },
          "metadata": {
            "tags": []
          },
          "execution_count": 54
        },
        {
          "output_type": "display_data",
          "data": {
            "image/png": "[encoded data removed]",
            "text/plain": [
              "<Figure size 432x288 with 1 Axes>"
            ]
          },
          "metadata": {
            "tags": []
          }
        }
      ]
    },
    {
      "cell_type": "code",
      "metadata": {
        "id": "UGzJLs5rcYRl"
      },
      "source": [
        "# Predicts values of test data\n",
        "mlp_predictions = mlp.predict(X_test_scaled)"
      ],
      "execution_count": null,
      "outputs": []
    },
    {
      "cell_type": "code",
      "metadata": {
        "colab": {
          "base_uri": "https://localhost:8080/"
        },
        "id": "pFL4V6HtU1-K",
        "outputId": "a29bd5bd-f695-4793-df5c-4ce8c6c35695"
      },
      "source": [
        "# Prints accuracy, confusion matrix, and classification report of predictions\n",
        "print(accuracy_score(y_test, mlp_predictions))\n",
        "print(confusion_matrix(y_test, mlp_predictions))\n",
        "print(classification_report(y_test, mlp_predictions))"
      ],
      "execution_count": null,
      "outputs": [
        {
          "output_type": "stream",
          "text": [
            "0.8606666666666667\n",
            "[[5137  848]\n",
            " [ 824 5191]]\n",
            "              precision    recall  f1-score   support\n",
            "\n",
            "           0       0.86      0.86      0.86      5985\n",
            "           1       0.86      0.86      0.86      6015\n",
            "\n",
            "    accuracy                           0.86     12000\n",
            "   macro avg       0.86      0.86      0.86     12000\n",
            "weighted avg       0.86      0.86      0.86     12000\n",
            "\n"
          ],
          "name": "stdout"
        }
      ]
    },
    {
      "cell_type": "code",
      "metadata": {
        "colab": {
          "base_uri": "https://localhost:8080/",
          "height": 302
        },
        "id": "xiD2yTT1tkmL",
        "outputId": "53a86f5a-d1d3-4794-e3fd-eddc8e4dde86"
      },
      "source": [
        "#Plot Confusion Matrix -- this is done on the test set \n",
        "labels_names = ('LQ_Closed', 'HQ')\n",
        "disp = plot_confusion_matrix(mlp, X_test_scaled, y_test, display_labels=labels_names,cmap=plt.cm.Blues, values_format = '.5g')\n",
        "disp.ax_.set_title(\"Multi-Layer Perceptron Model\")\n",
        "plt.grid(False)\n",
        "plt.show()"
      ],
      "execution_count": null,
      "outputs": [
        {
          "output_type": "display_data",
          "data": {
            "image/png": "[encoded data removed]",
            "text/plain": [
              "<Figure size 432x288 with 2 Axes>"
            ]
          },
          "metadata": {
            "tags": []
          }
        }
      ]
    },
    {
      "cell_type": "markdown",
      "metadata": {
        "id": "OxiB3DQr8sB5"
      },
      "source": [
        "## LR on Text Data"
      ]
    },
    {
      "cell_type": "code",
      "metadata": {
        "id": "gHrBy0lT8wYk"
      },
      "source": [
        "# Load the vectorizer, fit on training set, transform on validation set\n",
        "vectorizer = TfidfVectorizer()\n",
        "X_train_text = vectorizer.fit_transform(X_train_text)\n",
        "X_test_text = vectorizer.transform(X_test_text)"
      ],
      "execution_count": null,
      "outputs": []
    },
    {
      "cell_type": "markdown",
      "metadata": {
        "id": "shGrdJJTeZaN"
      },
      "source": [
        "As you can see, the numerical and text data is of different forms and combining them will be difficult and create an extremely large database to work off of. So we will continue working on the text data separatly"
      ]
    },
    {
      "cell_type": "code",
      "metadata": {
        "colab": {
          "base_uri": "https://localhost:8080/"
        },
        "id": "AksRGAo08_6l",
        "outputId": "8a8672ce-3acb-43a6-b057-362b0ec7cc7d"
      },
      "source": [
        "print(type(X_train_text))\n",
        "print(type(X_train_scaled))"
      ],
      "execution_count": null,
      "outputs": [
        {
          "output_type": "stream",
          "text": [
            "<class 'scipy.sparse.csr.csr_matrix'>\n",
            "<class 'numpy.ndarray'>\n"
          ],
          "name": "stdout"
        }
      ]
    },
    {
      "cell_type": "code",
      "metadata": {
        "colab": {
          "base_uri": "https://localhost:8080/"
        },
        "id": "0_oBoVPy9mG3",
        "outputId": "f3f70985-12ac-4465-96c4-977ee4d3603f"
      },
      "source": [
        "print(X_train_text.shape)\n",
        "print(X_train_scaled.shape)"
      ],
      "execution_count": null,
      "outputs": [
        {
          "output_type": "stream",
          "text": [
            "(27999, 77791)\n",
            "(27999, 1008)\n"
          ],
          "name": "stdout"
        }
      ]
    },
    {
      "cell_type": "code",
      "metadata": {
        "id": "vD_mTr7n-xyH"
      },
      "source": [
        "# Testing different models on the text dat to find the optimal one\n",
        "models = []\n",
        "models.append(('LR', LogisticRegression(solver='liblinear', multi_class='ovr')))\n",
        "models.append(('KNN', KNeighborsClassifier()))\n",
        "models.append(('PER', Perceptron()))\n",
        "models.append(('SGD', SGDClassifier()))\n"
      ],
      "execution_count": null,
      "outputs": []
    },
    {
      "cell_type": "code",
      "metadata": {
        "colab": {
          "base_uri": "https://localhost:8080/"
        },
        "id": "VTZRHAbX-g7A",
        "outputId": "6e54a08a-b3c4-4a06-c222-dc7c75886fdd"
      },
      "source": [
        "# evaluate each model in turn, but only with training data set using 10-fold CV\n",
        "results = []\n",
        "names = []\n",
        "for name, model in models:\n",
        "\tkfold = StratifiedKFold(n_splits=10, random_state=1, shuffle=True)\n",
        "\tcv_results = cross_val_score(model, X_train_text, y_train, cv=kfold, scoring='accuracy')\n",
        "\tresults.append(cv_results)\n",
        "\tnames.append(name)\n",
        "\tprint('%s: %f (%f)' % (name, cv_results.mean(), cv_results.std()))"
      ],
      "execution_count": null,
      "outputs": [
        {
          "output_type": "stream",
          "text": [
            "LR: 0.855781 (0.008195)\n",
            "KNN: 0.770242 (0.007870)\n",
            "PER: 0.820530 (0.008294)\n",
            "SGD: 0.856281 (0.009113)\n"
          ],
          "name": "stdout"
        }
      ]
    },
    {
      "cell_type": "code",
      "metadata": {
        "colab": {
          "base_uri": "https://localhost:8080/",
          "height": 284
        },
        "id": "co-DW76w-9np",
        "outputId": "a9cb9c04-661c-4f8c-c3eb-52c76614b43b"
      },
      "source": [
        "\n",
        "# Box plot of the results\n",
        "plt.boxplot(results, labels=names)\n",
        "plt.title('Algorithm Comparison')\n",
        "plt.show()"
      ],
      "execution_count": null,
      "outputs": [
        {
          "output_type": "display_data",
          "data": {
            "image/png": "[encoded data removed]",
            "text/plain": [
              "<Figure size 432x288 with 1 Axes>"
            ]
          },
          "metadata": {
            "tags": []
          }
        }
      ]
    },
    {
      "cell_type": "code",
      "metadata": {
        "colab": {
          "base_uri": "https://localhost:8080/"
        },
        "id": "Y7e8lzJs_AEW",
        "outputId": "e33ccc19-3187-423f-8d8f-29a551924684"
      },
      "source": [
        "# Create a LR Classifier on text data\n",
        "lr_classifier = LogisticRegression(C=1., max_iter=500)\n",
        "lr_classifier.fit(X_train_text, y_train)"
      ],
      "execution_count": null,
      "outputs": [
        {
          "output_type": "execute_result",
          "data": {
            "text/plain": [
              "LogisticRegression(max_iter=500)"
            ]
          },
          "metadata": {
            "tags": []
          },
          "execution_count": 64
        }
      ]
    },
    {
      "cell_type": "code",
      "metadata": {
        "id": "Ix5H2oE0_Iu9"
      },
      "source": [
        "# Fit the model and make predictions on test data\n",
        "model = LogisticRegression(solver='liblinear', multi_class='ovr')\n",
        "model.fit(X_train_text, y_train)\n",
        "lr_predictions = model.predict(X_test_text)"
      ],
      "execution_count": null,
      "outputs": []
    },
    {
      "cell_type": "code",
      "metadata": {
        "colab": {
          "base_uri": "https://localhost:8080/"
        },
        "id": "whjq9nm3_N_6",
        "outputId": "dc201747-e919-4816-c199-543c4b474ff0"
      },
      "source": [
        "# Evaluate predictions -- this is done only on the test set\n",
        "print(accuracy_score(y_test, lr_predictions))\n",
        "print(confusion_matrix(y_test, lr_predictions))\n",
        "print(classification_report(y_test, lr_predictions))"
      ],
      "execution_count": null,
      "outputs": [
        {
          "output_type": "stream",
          "text": [
            "0.8579166666666667\n",
            "[[5125  860]\n",
            " [ 845 5170]]\n",
            "              precision    recall  f1-score   support\n",
            "\n",
            "           0       0.86      0.86      0.86      5985\n",
            "           1       0.86      0.86      0.86      6015\n",
            "\n",
            "    accuracy                           0.86     12000\n",
            "   macro avg       0.86      0.86      0.86     12000\n",
            "weighted avg       0.86      0.86      0.86     12000\n",
            "\n"
          ],
          "name": "stdout"
        }
      ]
    },
    {
      "cell_type": "code",
      "metadata": {
        "colab": {
          "base_uri": "https://localhost:8080/",
          "height": 302
        },
        "id": "KzulAhfDtN8B",
        "outputId": "c60aa460-6965-448a-a056-ad7eaf12364e"
      },
      "source": [
        "#Plot Confusion Matrix -- this is done on the test set \n",
        "disp = plot_confusion_matrix(lr_classifier, X_test_text, y_test,display_labels=labels_names ,cmap=plt.cm.Blues, values_format = '.5g')\n",
        "disp.ax_.set_title(\"Logistic Regression Model\")\n",
        "plt.grid(False)\n",
        "plt.show()"
      ],
      "execution_count": null,
      "outputs": [
        {
          "output_type": "display_data",
          "data": {
            "image/png": "[encoded data removed]",
            "text/plain": [
              "<Figure size 432x288 with 2 Axes>"
            ]
          },
          "metadata": {
            "tags": []
          }
        }
      ]
    },
    {
      "cell_type": "code",
      "metadata": {
        "colab": {
          "base_uri": "https://localhost:8080/"
        },
        "id": "MQ1qYbZQRAS2",
        "outputId": "35026785-3839-4911-ab79-b24d4b3213f6"
      },
      "source": [
        "print (lr_classifier.score(X_train_text,y_train))"
      ],
      "execution_count": null,
      "outputs": [
        {
          "output_type": "stream",
          "text": [
            "0.8950319654273367\n"
          ],
          "name": "stdout"
        }
      ]
    },
    {
      "cell_type": "markdown",
      "metadata": {
        "id": "zYSwKjadDT2Z"
      },
      "source": [
        "## Combining the Models"
      ]
    },
    {
      "cell_type": "markdown",
      "metadata": {
        "id": "PXougEkBfFSA"
      },
      "source": [
        "Now that we have our two models, we must get the probabilities of both models and combine them to make our final predictions."
      ]
    },
    {
      "cell_type": "code",
      "metadata": {
        "id": "NxjB_seu_vtt"
      },
      "source": [
        "# Obtain probability and accuracy of MLP model\n",
        "MLP_Probs = mlp.predict_proba(X_test_scaled)\n",
        "MLP_Accuracy = mlp.score(X_test_scaled, y_test)"
      ],
      "execution_count": null,
      "outputs": []
    },
    {
      "cell_type": "code",
      "metadata": {
        "id": "SmKE_2qK_7FE"
      },
      "source": [
        "# Obtain probability and accuracy of LR model\n",
        "LR_Probs = lr_classifier.predict_proba(X_test_text)\n",
        "LR_Accuracy = lr_classifier.score(X_test_text, y_test)"
      ],
      "execution_count": null,
      "outputs": []
    },
    {
      "cell_type": "code",
      "metadata": {
        "colab": {
          "base_uri": "https://localhost:8080/"
        },
        "id": "ZTwnM4trARmv",
        "outputId": "4b9d8221-f976-4aff-cb19-f42a9aacc81c"
      },
      "source": [
        "print(MLP_Probs)\n",
        "print(MLP_Accuracy)"
      ],
      "execution_count": null,
      "outputs": [
        {
          "output_type": "stream",
          "text": [
            "[[0.7650698  0.2349302 ]\n",
            " [0.03924482 0.96075518]\n",
            " [0.86567757 0.13432243]\n",
            " ...\n",
            " [0.94556583 0.05443417]\n",
            " [0.29815181 0.70184819]\n",
            " [0.01712074 0.98287926]]\n",
            "0.8606666666666667\n"
          ],
          "name": "stdout"
        }
      ]
    },
    {
      "cell_type": "code",
      "metadata": {
        "colab": {
          "base_uri": "https://localhost:8080/"
        },
        "id": "nSiMA2FiAhPO",
        "outputId": "a7b1bf92-1dc5-47e1-b9fd-eb1d1c6f2160"
      },
      "source": [
        "print(LR_Probs)\n",
        "print(LR_Accuracy)"
      ],
      "execution_count": null,
      "outputs": [
        {
          "output_type": "stream",
          "text": [
            "[[0.48796565 0.51203435]\n",
            " [0.0922851  0.9077149 ]\n",
            " [0.87624787 0.12375213]\n",
            " ...\n",
            " [0.98429323 0.01570677]\n",
            " [0.67762448 0.32237552]\n",
            " [0.63043428 0.36956572]]\n",
            "0.8579166666666667\n"
          ],
          "name": "stdout"
        }
      ]
    },
    {
      "cell_type": "code",
      "metadata": {
        "id": "_XxCmZGGAkNt"
      },
      "source": [
        "# Combine probabilities using the accuracies as weights\n",
        "Final_Prediction_Probs = (MLP_Probs*MLP_Accuracy + LR_Probs*LR_Accuracy) / (MLP_Accuracy + LR_Accuracy)"
      ],
      "execution_count": null,
      "outputs": []
    },
    {
      "cell_type": "code",
      "metadata": {
        "colab": {
          "base_uri": "https://localhost:8080/"
        },
        "id": "TpG9lseIAzeC",
        "outputId": "53daff59-6921-4490-ab76-5f92ba352b50"
      },
      "source": [
        "Final_Prediction_Probs"
      ],
      "execution_count": null,
      "outputs": [
        {
          "output_type": "execute_result",
          "data": {
            "text/plain": [
              "array([[0.62673943, 0.37326057],\n",
              "       [0.06572252, 0.93427748],\n",
              "       [0.87095426, 0.12904574],\n",
              "       ...,\n",
              "       [0.96489854, 0.03510146],\n",
              "       [0.48758453, 0.51241547],\n",
              "       [0.32328681, 0.67671319]])"
            ]
          },
          "metadata": {
            "tags": []
          },
          "execution_count": 74
        }
      ]
    },
    {
      "cell_type": "code",
      "metadata": {
        "colab": {
          "base_uri": "https://localhost:8080/"
        },
        "id": "gNze8K8XBTR8",
        "outputId": "5b98b348-58a3-4e39-d4a8-586fbd79f914"
      },
      "source": [
        "Final_Prediction_Probs.shape"
      ],
      "execution_count": null,
      "outputs": [
        {
          "output_type": "execute_result",
          "data": {
            "text/plain": [
              "(12000, 2)"
            ]
          },
          "metadata": {
            "tags": []
          },
          "execution_count": 75
        }
      ]
    },
    {
      "cell_type": "code",
      "metadata": {
        "id": "dGMQ7NDkA4Q1"
      },
      "source": [
        "# Make predictions based on final probabilites\n",
        "Final_Predictions = np.zeros(Final_Prediction_Probs.shape[0])\n",
        "for index,probs in enumerate(Final_Prediction_Probs):\n",
        "  if probs[1] > probs[0]:\n",
        "    Final_Predictions[index] = 1"
      ],
      "execution_count": null,
      "outputs": []
    },
    {
      "cell_type": "code",
      "metadata": {
        "colab": {
          "base_uri": "https://localhost:8080/"
        },
        "id": "z2RjwpmpCP_w",
        "outputId": "5fa4ed86-9764-4557-8215-70c7b5f9eeca"
      },
      "source": [
        "Final_Predictions"
      ],
      "execution_count": null,
      "outputs": [
        {
          "output_type": "execute_result",
          "data": {
            "text/plain": [
              "array([0., 1., 0., ..., 0., 1., 1.])"
            ]
          },
          "metadata": {
            "tags": []
          },
          "execution_count": 77
        }
      ]
    },
    {
      "cell_type": "code",
      "metadata": {
        "colab": {
          "base_uri": "https://localhost:8080/"
        },
        "id": "v_wp_nIbRQuD",
        "outputId": "7fc21010-58d7-4230-e21e-dc24a30dd47e"
      },
      "source": [
        "# Prints accuracy, confusion matrix, and classification report of predictions\n",
        "print(accuracy_score(y_test, Final_Predictions))\n",
        "print(confusion_matrix(y_test, Final_Predictions))\n",
        "print(classification_report(y_test, Final_Predictions))"
      ],
      "execution_count": null,
      "outputs": [
        {
          "output_type": "stream",
          "text": [
            "0.8880833333333333\n",
            "[[5301  684]\n",
            " [ 659 5356]]\n",
            "              precision    recall  f1-score   support\n",
            "\n",
            "           0       0.89      0.89      0.89      5985\n",
            "           1       0.89      0.89      0.89      6015\n",
            "\n",
            "    accuracy                           0.89     12000\n",
            "   macro avg       0.89      0.89      0.89     12000\n",
            "weighted avg       0.89      0.89      0.89     12000\n",
            "\n"
          ],
          "name": "stdout"
        }
      ]
    },
    {
      "cell_type": "code",
      "metadata": {
        "colab": {
          "base_uri": "https://localhost:8080/"
        },
        "id": "1Ymy5RlYBg-J",
        "outputId": "3bca6e19-34d4-4003-fbb1-a8a916d5f64b"
      },
      "source": [
        "Final_Predictions.shape"
      ],
      "execution_count": null,
      "outputs": [
        {
          "output_type": "execute_result",
          "data": {
            "text/plain": [
              "(12000,)"
            ]
          },
          "metadata": {
            "tags": []
          },
          "execution_count": 79
        }
      ]
    },
    {
      "cell_type": "code",
      "metadata": {
        "colab": {
          "base_uri": "https://localhost:8080/",
          "height": 285
        },
        "id": "8NUPtgv02sjJ",
        "outputId": "f09ca2a7-0842-4bf0-860f-341740d2a90f"
      },
      "source": [
        "cm = confusion_matrix(y_test, Final_Predictions)\n",
        "ax = plt.axes()\n",
        "f = sns.heatmap(cm, ax =ax ,annot=True ,xticklabels=labels_names, yticklabels=labels_names, cmap=plt.cm.Blues,fmt='g')\n",
        "ax.set_title('Final Model Predictions')\n",
        "ax.set_xlabel = 'Predicted Label'\n",
        "ax.set_ylabel = 'True Label'\n",
        "plt.grid(False)"
      ],
      "execution_count": null,
      "outputs": [
        {
          "output_type": "display_data",
          "data": {
            "image/png": "[encoded data removed]",
            "text/plain": [
              "<Figure size 432x288 with 2 Axes>"
            ]
          },
          "metadata": {
            "tags": []
          }
        }
      ]
    },
    {
      "cell_type": "markdown",
      "metadata": {
        "id": "KXHH-j9ifi1Z"
      },
      "source": [
        "These are the final results of each of the models: Combined, LR only, and MLP only. As you can see, combining the models improves the overall accuracy by about 3%."
      ]
    },
    {
      "cell_type": "code",
      "metadata": {
        "colab": {
          "base_uri": "https://localhost:8080/"
        },
        "id": "No_x6kw-DDQc",
        "outputId": "f2042762-9f94-4f43-b17d-0a61a9de4dc2"
      },
      "source": [
        "# Combined\n",
        "print(accuracy_score(y_test, Final_Predictions))\n",
        "print(confusion_matrix(y_test, Final_Predictions))\n",
        "print(classification_report(y_test, Final_Predictions))\n",
        "print(Final_Predictions[:20])\n",
        "print(y_test[:20])"
      ],
      "execution_count": null,
      "outputs": [
        {
          "output_type": "stream",
          "text": [
            "0.8880833333333333\n",
            "[[5301  684]\n",
            " [ 659 5356]]\n",
            "              precision    recall  f1-score   support\n",
            "\n",
            "           0       0.89      0.89      0.89      5985\n",
            "           1       0.89      0.89      0.89      6015\n",
            "\n",
            "    accuracy                           0.89     12000\n",
            "   macro avg       0.89      0.89      0.89     12000\n",
            "weighted avg       0.89      0.89      0.89     12000\n",
            "\n",
            "[0. 1. 0. 0. 1. 1. 1. 0. 1. 1. 0. 0. 1. 0. 0. 0. 1. 1. 0. 1.]\n",
            "[0 1 0 1 1 0 0 0 1 1 0 0 1 0 0 1 1 1 0 1]\n"
          ],
          "name": "stdout"
        }
      ]
    },
    {
      "cell_type": "code",
      "metadata": {
        "colab": {
          "base_uri": "https://localhost:8080/"
        },
        "id": "GlCW5ZerDerO",
        "outputId": "0255ff4a-24ae-474d-d282-2c0cc1a6052b"
      },
      "source": [
        "#LR\n",
        "print(accuracy_score(y_test, lr_predictions))\n",
        "print(confusion_matrix(y_test, lr_predictions))\n",
        "print(classification_report(y_test, lr_predictions))\n",
        "print(lr_predictions[:20])\n",
        "print(y_test[:20])"
      ],
      "execution_count": null,
      "outputs": [
        {
          "output_type": "stream",
          "text": [
            "0.8579166666666667\n",
            "[[5125  860]\n",
            " [ 845 5170]]\n",
            "              precision    recall  f1-score   support\n",
            "\n",
            "           0       0.86      0.86      0.86      5985\n",
            "           1       0.86      0.86      0.86      6015\n",
            "\n",
            "    accuracy                           0.86     12000\n",
            "   macro avg       0.86      0.86      0.86     12000\n",
            "weighted avg       0.86      0.86      0.86     12000\n",
            "\n",
            "[1 1 0 1 1 1 1 0 1 1 0 0 1 0 0 0 1 1 1 1]\n",
            "[0 1 0 1 1 0 0 0 1 1 0 0 1 0 0 1 1 1 0 1]\n"
          ],
          "name": "stdout"
        }
      ]
    },
    {
      "cell_type": "code",
      "metadata": {
        "colab": {
          "base_uri": "https://localhost:8080/",
          "height": 318
        },
        "id": "MObFIpOSuZjb",
        "outputId": "e8e945ec-0e38-4a18-8ebd-ff26877dbf7f"
      },
      "source": [
        "lr_y_score = lr_classifier.decision_function(X_test_text)\n",
        "lr_average_precision = average_precision_score(y_test, lr_y_score)\n",
        "\n",
        "lr_prec_recall = plot_precision_recall_curve(lr_classifier, X_test_text, y_test)\n",
        "lr_prec_recall.ax_.set_title('Logistic Regression Precision-Recall curve: '\n",
        "                   'AP={0:0.2f}'.format(lr_average_precision))"
      ],
      "execution_count": null,
      "outputs": [
        {
          "output_type": "execute_result",
          "data": {
            "text/plain": [
              "Text(0.5, 1.0, 'Logistic Regression Precision-Recall curve: AP=0.93')"
            ]
          },
          "metadata": {
            "tags": []
          },
          "execution_count": 83
        },
        {
          "output_type": "display_data",
          "data": {
            "image/png": "[encoded data removed]",
            "text/plain": [
              "<Figure size 432x288 with 1 Axes>"
            ]
          },
          "metadata": {
            "tags": []
          }
        }
      ]
    },
    {
      "cell_type": "markdown",
      "metadata": {
        "id": "Ye5XNldLv2hL"
      },
      "source": [
        "Precision-Recall is a useful measure of success of prediction when the classes are very imbalanced. In information retrieval, precision is a measure of result relevancy, while recall is a measure of how many truly relevant results are returned.\n",
        "\n",
        "The precision-recall curve shows the tradeoff between precision and recall for different threshold. A high area under the curve represents both high recall and high precision, where high precision relates to a low false positive rate, and high recall relates to a low false negative rate. High scores for both show that the classifier is returning accurate results (high precision), as well as returning a majority of all positive results (high recall)."
      ]
    },
    {
      "cell_type": "code",
      "metadata": {
        "colab": {
          "base_uri": "https://localhost:8080/",
          "height": 285
        },
        "id": "ul7ap-Wt2rfN",
        "outputId": "1922bdf0-a8e7-4bc6-80fc-55999ab5211f"
      },
      "source": [
        "lr_disp = plot_roc_curve(lr_classifier, X_test_text, y_test)\n",
        "plt.show()"
      ],
      "execution_count": null,
      "outputs": [
        {
          "output_type": "display_data",
          "data": {
            "image/png": "[encoded data removed]",
            "text/plain": [
              "<Figure size 432x288 with 1 Axes>"
            ]
          },
          "metadata": {
            "tags": []
          }
        }
      ]
    },
    {
      "cell_type": "markdown",
      "metadata": {
        "id": "x30P2-h535o1"
      },
      "source": [
        "ROC curves typically feature true positive rate on the Y axis, and false positive rate on the X axis. This means that the top left corner of the plot is the “ideal” point - a false positive rate of zero, and a true positive rate of one. This is not very realistic, but it does mean that a larger area under the curve (AUC) is usually better."
      ]
    },
    {
      "cell_type": "code",
      "metadata": {
        "colab": {
          "base_uri": "https://localhost:8080/"
        },
        "id": "pfkFk-qdDmTB",
        "outputId": "a3967ad1-f1fe-4438-994b-ccfbb1255ea7"
      },
      "source": [
        "#MLP\n",
        "print(accuracy_score(y_test, mlp_predictions))\n",
        "print(confusion_matrix(y_test, mlp_predictions))\n",
        "print(classification_report(y_test, mlp_predictions))\n",
        "print(mlp_predictions[:20])\n",
        "print(y_test[:20])"
      ],
      "execution_count": null,
      "outputs": [
        {
          "output_type": "stream",
          "text": [
            "0.8606666666666667\n",
            "[[5137  848]\n",
            " [ 824 5191]]\n",
            "              precision    recall  f1-score   support\n",
            "\n",
            "           0       0.86      0.86      0.86      5985\n",
            "           1       0.86      0.86      0.86      6015\n",
            "\n",
            "    accuracy                           0.86     12000\n",
            "   macro avg       0.86      0.86      0.86     12000\n",
            "weighted avg       0.86      0.86      0.86     12000\n",
            "\n",
            "[0 1 0 0 0 1 1 1 1 1 0 0 1 0 0 0 0 1 0 1]\n",
            "[0 1 0 1 1 0 0 0 1 1 0 0 1 0 0 1 1 1 0 1]\n"
          ],
          "name": "stdout"
        }
      ]
    },
    {
      "cell_type": "code",
      "metadata": {
        "colab": {
          "base_uri": "https://localhost:8080/",
          "height": 285
        },
        "id": "quX4-Zxp2VKm",
        "outputId": "5079f96e-cbc4-4a63-9ebc-6705d30a5e74"
      },
      "source": [
        "mlp_disp = plot_roc_curve(mlp, X_test_scaled, y_test)\n",
        "plt.show()"
      ],
      "execution_count": null,
      "outputs": [
        {
          "output_type": "display_data",
          "data": {
            "image/png": "[encoded data removed]",
            "text/plain": [
              "<Figure size 432x288 with 1 Axes>"
            ]
          },
          "metadata": {
            "tags": []
          }
        }
      ]
    },
    {
      "cell_type": "markdown",
      "metadata": {
        "id": "KpnqMJcF2k3b"
      },
      "source": [
        "ROC curves typically feature true positive rate on the Y axis, and false positive rate on the X axis. This means that the top left corner of the plot is the “ideal” point - a false positive rate of zero, and a true positive rate of one. This is not very realistic, but it does mean that a larger area under the curve (AUC) is usually better."
      ]
    }
  ]
}